{
 "cells": [
  {
   "cell_type": "markdown",
   "metadata": {},
   "source": [
    "# Python Algorithmic Trading Cookbook\n",
    "\n",
    "## Chapter 1: Handling & Manipulating Date, Time & Time Series Data"
   ]
  },
  {
   "cell_type": "markdown",
   "metadata": {},
   "source": [
    "### This Jupyter Notebook is created using Python version 3.7.2"
   ]
  },
  {
   "cell_type": "markdown",
   "metadata": {},
   "source": [
    "------------------------------"
   ]
  },
  {
   "cell_type": "markdown",
   "metadata": {},
   "source": [
    "### Recipe #1:  Creating DateTime objects and modifying its attributes"
   ]
  },
  {
   "cell_type": "code",
   "execution_count": 1,
   "metadata": {},
   "outputs": [],
   "source": [
    "# Import the necessary module from Python Standard Library\n",
    "from datetime import datetime"
   ]
  },
  {
   "cell_type": "code",
   "execution_count": 2,
   "metadata": {},
   "outputs": [
    {
     "name": "stdout",
     "output_type": "stream",
     "text": [
      "Approach #1: 2019-11-16 14:35:06.255386\n",
      "Approach #1: 2021-01-01 00:00:00\n"
     ]
    }
   ],
   "source": [
    "# Create datetime object \n",
    "\n",
    "# Approach #1: Create datetime object from the current date & time. \n",
    "dt = datetime.now()\n",
    "print(f'Approach #1: {dt}')\n",
    "\n",
    "# Approach #2: Create datetime object for 1st January 2021, midnight\n",
    "dt = datetime(year=2021, month=1, day=1)\n",
    "print(f'Approach #1: {dt}')\n",
    "\n",
    "\n",
    "# Note: Your 1st output would differ from the one below."
   ]
  },
  {
   "cell_type": "code",
   "execution_count": 3,
   "metadata": {},
   "outputs": [
    {
     "name": "stdout",
     "output_type": "stream",
     "text": [
      "Year: 2021\n",
      "Month: 1\n",
      "Day: 1\n",
      "Hours: 0\n",
      "Minutes: 0\n",
      "Seconds: 0\n",
      "Microseconds: 0\n"
     ]
    }
   ],
   "source": [
    "# Inspect the attributes of the object\n",
    "print(f'Year: {dt.year}')\n",
    "print(f'Month: {dt.month}')\n",
    "print(f'Day: {dt.day}')\n",
    "print(f'Hours: {dt.hour}')\n",
    "print(f'Minutes: {dt.minute}')\n",
    "print(f'Seconds: {dt.second}')\n",
    "print(f'Microseconds: {dt.microsecond}')\n",
    "\n",
    "# Note: Your output would differ from the one below."
   ]
  },
  {
   "cell_type": "code",
   "execution_count": 4,
   "metadata": {},
   "outputs": [
    {
     "name": "stdout",
     "output_type": "stream",
     "text": [
      "Today's date: 2021-01-01\n",
      "Current time: 00:00:00\n"
     ]
    }
   ],
   "source": [
    "# Get the current date\n",
    "print(f\"Today's date: {dt.date()}\")\n",
    "print(f\"Current time: {dt.time()}\")"
   ]
  },
  {
   "cell_type": "markdown",
   "metadata": {},
   "source": [
    "------------------------------"
   ]
  },
  {
   "cell_type": "markdown",
   "metadata": {},
   "source": [
    "### Recipe #2: Creating TimeDelta objects and modifying its attributes."
   ]
  },
  {
   "cell_type": "code",
   "execution_count": 5,
   "metadata": {},
   "outputs": [],
   "source": [
    "# Import the necessary module from Python Standard Library\n",
    "from datetime import timedelta"
   ]
  },
  {
   "cell_type": "code",
   "execution_count": 6,
   "metadata": {},
   "outputs": [
    {
     "name": "stdout",
     "output_type": "stream",
     "text": [
      "Time difference: 5 days, 0:00:00\n"
     ]
    }
   ],
   "source": [
    "# Create a timedelta object with a duration of 5days\n",
    "td = timedelta(days=5)\n",
    "print(f'Time difference: {td}')"
   ]
  },
  {
   "cell_type": "code",
   "execution_count": 7,
   "metadata": {},
   "outputs": [
    {
     "name": "stdout",
     "output_type": "stream",
     "text": [
      "Timedelta operations:\n",
      "\n",
      "Addition: 5 days, 0:00:00 + 4 days, 0:00:00 = 9 days, 0:00:00\n",
      "Subtraction: 5 days, 0:00:00 - 4 days, 0:00:00 = 1 day, 0:00:00\n",
      "Multiplication: 5 days, 0:00:00 * 2.5 = 12 days, 12:00:00\n"
     ]
    }
   ],
   "source": [
    "# Operations on timedelta objects\n",
    "td1 = timedelta(days=5)\n",
    "td2 = timedelta(days=4)\n",
    "\n",
    "print('Timedelta operations:\\n')\n",
    "print(f'Addition: {td1} + {td2} = {td1 + td2}')\n",
    "print(f'Subtraction: {td1} - {td2} = {td1 - td2}')\n",
    "print(f'Multiplication: {td1} * 2.5 = {td1 * 2.5}')"
   ]
  },
  {
   "cell_type": "markdown",
   "metadata": {},
   "source": [
    "------------------------------"
   ]
  },
  {
   "cell_type": "markdown",
   "metadata": {},
   "source": [
    "### Recipe #3: DateTime manipulation\n",
    "\n",
    "Often you want to do operations on a given datetime object, like find end of current candle, or find a date, say 5 days ago.\n"
   ]
  },
  {
   "cell_type": "code",
   "execution_count": 8,
   "metadata": {},
   "outputs": [
    {
     "data": {
      "text/plain": [
       "datetime.timedelta(days=22, seconds=43200)"
      ]
     },
     "execution_count": 8,
     "metadata": {},
     "output_type": "execute_result"
    }
   ],
   "source": [
    "td1 * 4.5"
   ]
  },
  {
   "cell_type": "code",
   "execution_count": 9,
   "metadata": {},
   "outputs": [],
   "source": [
    "from datetime import datetime, timedelta"
   ]
  },
  {
   "cell_type": "code",
   "execution_count": 10,
   "metadata": {},
   "outputs": [
    {
     "name": "stdout",
     "output_type": "stream",
     "text": [
      "Today's Date: 2019-11-16\n"
     ]
    }
   ],
   "source": [
    "datetime_now = datetime.now()\n",
    "date_today = datetime_now.date()                # this returns today's date\n",
    "print(f\"Today's Date: {date_today}\")"
   ]
  },
  {
   "cell_type": "code",
   "execution_count": 11,
   "metadata": {},
   "outputs": [
    {
     "name": "stdout",
     "output_type": "stream",
     "text": [
      "Date 5 days later: 2019-11-21\n"
     ]
    }
   ],
   "source": [
    "# Addition of datetime objects\n",
    "date_5days_later = date_today + timedelta(days=5)\n",
    "print(f\"Date 5 days later: {date_5days_later}\")"
   ]
  },
  {
   "cell_type": "code",
   "execution_count": 12,
   "metadata": {},
   "outputs": [
    {
     "name": "stdout",
     "output_type": "stream",
     "text": [
      "Date 5 days ago: 2019-11-11\n"
     ]
    }
   ],
   "source": [
    "# Subtraction of datetime objects\n",
    "date_5days_ago = date_today - timedelta(days=5)\n",
    "print(f\"Date 5 days ago: {date_5days_ago}\")"
   ]
  },
  {
   "cell_type": "code",
   "execution_count": 13,
   "metadata": {},
   "outputs": [
    {
     "name": "stdout",
     "output_type": "stream",
     "text": [
      "Time now: 14:35:06.343899\n"
     ]
    }
   ],
   "source": [
    "time_now = datetime_now.time()\n",
    "print(f\"Time now: {time_now}\")"
   ]
  },
  {
   "cell_type": "code",
   "execution_count": 14,
   "metadata": {},
   "outputs": [
    {
     "name": "stdout",
     "output_type": "stream",
     "text": [
      "Time 5 minutes later: 14:40:06.343899\n"
     ]
    }
   ],
   "source": [
    "# Addition of time objects\n",
    "time_5minutes_later = (datetime_now + timedelta(minutes=5)).time()              # Note: operations are not allowed on time objects, so have to perform on datetime objects and then extract the time\n",
    "print(f\"Time 5 minutes later: {time_5minutes_later}\")"
   ]
  },
  {
   "cell_type": "code",
   "execution_count": 15,
   "metadata": {},
   "outputs": [
    {
     "name": "stdout",
     "output_type": "stream",
     "text": [
      "Time 5 minutes ago: 14:30:06.343899\n"
     ]
    }
   ],
   "source": [
    "# Subtraction of time objects\n",
    "time_5minutes_ago = (datetime_now - timedelta(minutes=5)).time()              # Note: operations are not allowed on time objects, so have to perform on datetime objects and then extract the time\n",
    "print(f\"Time 5 minutes ago: {time_5minutes_ago}\")"
   ]
  },
  {
   "cell_type": "code",
   "execution_count": 16,
   "metadata": {},
   "outputs": [
    {
     "data": {
      "text/plain": [
       "False"
      ]
     },
     "execution_count": 16,
     "metadata": {},
     "output_type": "execute_result"
    }
   ],
   "source": [
    "# Comparison\n",
    "time_5minutes_ago > time_5minutes_later"
   ]
  },
  {
   "cell_type": "code",
   "execution_count": 17,
   "metadata": {},
   "outputs": [
    {
     "data": {
      "text/plain": [
       "True"
      ]
     },
     "execution_count": 17,
     "metadata": {},
     "output_type": "execute_result"
    }
   ],
   "source": [
    "time_5minutes_ago <= time_5minutes_later"
   ]
  },
  {
   "cell_type": "code",
   "execution_count": 18,
   "metadata": {},
   "outputs": [
    {
     "data": {
      "text/plain": [
       "True"
      ]
     },
     "execution_count": 18,
     "metadata": {},
     "output_type": "execute_result"
    }
   ],
   "source": [
    "date_5days_later >= date_today >= date_5days_ago"
   ]
  },
  {
   "cell_type": "markdown",
   "metadata": {},
   "source": [
    "------------------------------"
   ]
  },
  {
   "cell_type": "markdown",
   "metadata": {},
   "source": [
    "### Recipe #4: Modify Date Time objects"
   ]
  },
  {
   "cell_type": "code",
   "execution_count": 19,
   "metadata": {},
   "outputs": [
    {
     "name": "stdout",
     "output_type": "stream",
     "text": [
      "1st January 2021: 2021-01-01 14:35:06.470159+05:30\n"
     ]
    }
   ],
   "source": [
    "# Modify the attributes of the object: Change the Date to 1st January 2021\n",
    "\n",
    "dt = datetime.now().astimezone()\n",
    "new_dt = dt.replace(year=2021, month=1, day=1)\n",
    "print(f'1st January 2021: {new_dt}')\n",
    "\n",
    "# Note: Your output would differ from the one below."
   ]
  },
  {
   "cell_type": "code",
   "execution_count": 20,
   "metadata": {},
   "outputs": [
    {
     "name": "stdout",
     "output_type": "stream",
     "text": [
      "1st January 2021: 2021-01-01 14:35:06.470159+05:30\n"
     ]
    }
   ],
   "source": [
    "new_dt = datetime(year=2021, month=1, day=1, hour=dt.hour, minute=dt.minute, second=dt.second, microsecond=dt.microsecond, tzinfo=dt.tzinfo)\n",
    "print(f'1st January 2021: {new_dt}')\n",
    "\n",
    "### Recipe #5: Conversion: DateTime & TimeDelta objects to other Python formats\n"
   ]
  },
  {
   "cell_type": "markdown",
   "metadata": {},
   "source": [
    "------------------------------"
   ]
  },
  {
   "cell_type": "markdown",
   "metadata": {},
   "source": [
    "### Recipe #5: Conversion: DateTime & TimeDelta objects to other Python formats\n"
   ]
  },
  {
   "cell_type": "code",
   "execution_count": 21,
   "metadata": {},
   "outputs": [],
   "source": [
    "from datetime import datetime, timedelta"
   ]
  },
  {
   "cell_type": "code",
   "execution_count": 22,
   "metadata": {},
   "outputs": [],
   "source": [
    "now = datetime.now().astimezone()"
   ]
  },
  {
   "cell_type": "code",
   "execution_count": 23,
   "metadata": {},
   "outputs": [
    {
     "name": "stdout",
     "output_type": "stream",
     "text": [
      "<class 'str'>\n",
      "2019-11-16 14:35:06.506290+05:30\n"
     ]
    }
   ],
   "source": [
    "now_str = str(now)\n",
    "print(type(now_str))\n",
    "print(now_str)"
   ]
  },
  {
   "cell_type": "code",
   "execution_count": 24,
   "metadata": {},
   "outputs": [
    {
     "name": "stdout",
     "output_type": "stream",
     "text": [
      "16-11-2019 14:35:06 IST\n"
     ]
    }
   ],
   "source": [
    "now_str = now.strftime(\"%d-%m-%Y %H:%M:%S %Z\")\n",
    "print(now_str)"
   ]
  },
  {
   "cell_type": "code",
   "execution_count": 25,
   "metadata": {},
   "outputs": [
    {
     "name": "stdout",
     "output_type": "stream",
     "text": [
      "Total seconds in 5 days: 432000.0\n"
     ]
    }
   ],
   "source": [
    "# Total seconds in the timedelta object\n",
    "td = timedelta(days=5)\n",
    "print(f'Total seconds in 5 days: {td.total_seconds()}')"
   ]
  },
  {
   "cell_type": "markdown",
   "metadata": {},
   "source": [
    "------------------------------"
   ]
  },
  {
   "cell_type": "markdown",
   "metadata": {},
   "source": [
    "### Recipe #6: Creation: DateTime & TimeDelta objects from other Python formats\n",
    "\n"
   ]
  },
  {
   "cell_type": "code",
   "execution_count": 26,
   "metadata": {},
   "outputs": [],
   "source": [
    "from datetime import datetime, timedelta"
   ]
  },
  {
   "cell_type": "code",
   "execution_count": 27,
   "metadata": {},
   "outputs": [],
   "source": [
    "now_str = '12-11-2019 15:53:39 IST'"
   ]
  },
  {
   "cell_type": "code",
   "execution_count": 28,
   "metadata": {},
   "outputs": [
    {
     "name": "stdout",
     "output_type": "stream",
     "text": [
      "2019-11-12 15:53:39\n",
      "<class 'datetime.datetime'>\n"
     ]
    }
   ],
   "source": [
    "now = datetime.strptime(now_str, \"%d-%m-%Y %H:%M:%S %Z\")\n",
    "print(now)\n",
    "print(type(now))"
   ]
  },
  {
   "cell_type": "code",
   "execution_count": 29,
   "metadata": {},
   "outputs": [
    {
     "ename": "ValueError",
     "evalue": "unconverted data remains:  15:53:39 IST",
     "output_type": "error",
     "traceback": [
      "\u001b[0;31m---------------------------------------------------------------------------\u001b[0m",
      "\u001b[0;31mValueError\u001b[0m                                Traceback (most recent call last)",
      "\u001b[0;32m<ipython-input-29-0b805a97cd3e>\u001b[0m in \u001b[0;36m<module>\u001b[0;34m\u001b[0m\n\u001b[0;32m----> 1\u001b[0;31m \u001b[0mnow\u001b[0m \u001b[0;34m=\u001b[0m \u001b[0mdatetime\u001b[0m\u001b[0;34m.\u001b[0m\u001b[0mstrptime\u001b[0m\u001b[0;34m(\u001b[0m\u001b[0mnow_str\u001b[0m\u001b[0;34m,\u001b[0m \u001b[0;34m\"%d-%m-%Y\"\u001b[0m\u001b[0;34m)\u001b[0m\u001b[0;34m\u001b[0m\u001b[0;34m\u001b[0m\u001b[0m\n\u001b[0m\u001b[1;32m      2\u001b[0m \u001b[0mprint\u001b[0m\u001b[0;34m(\u001b[0m\u001b[0mnow\u001b[0m\u001b[0;34m)\u001b[0m\u001b[0;34m\u001b[0m\u001b[0;34m\u001b[0m\u001b[0m\n\u001b[1;32m      3\u001b[0m \u001b[0mprint\u001b[0m\u001b[0;34m(\u001b[0m\u001b[0mtype\u001b[0m\u001b[0;34m(\u001b[0m\u001b[0mnow\u001b[0m\u001b[0;34m)\u001b[0m\u001b[0;34m)\u001b[0m\u001b[0;34m\u001b[0m\u001b[0;34m\u001b[0m\u001b[0m\n\u001b[1;32m      4\u001b[0m \u001b[0;34m\u001b[0m\u001b[0m\n\u001b[1;32m      5\u001b[0m \u001b[0;31m# Note: It's expected to have an error below\u001b[0m\u001b[0;34m\u001b[0m\u001b[0;34m\u001b[0m\u001b[0;34m\u001b[0m\u001b[0m\n",
      "\u001b[0;32m/usr/local/lib/python3.7/_strptime.py\u001b[0m in \u001b[0;36m_strptime_datetime\u001b[0;34m(cls, data_string, format)\u001b[0m\n\u001b[1;32m    575\u001b[0m     \"\"\"Return a class cls instance based on the input string and the\n\u001b[1;32m    576\u001b[0m     format string.\"\"\"\n\u001b[0;32m--> 577\u001b[0;31m     \u001b[0mtt\u001b[0m\u001b[0;34m,\u001b[0m \u001b[0mfraction\u001b[0m\u001b[0;34m,\u001b[0m \u001b[0mgmtoff_fraction\u001b[0m \u001b[0;34m=\u001b[0m \u001b[0m_strptime\u001b[0m\u001b[0;34m(\u001b[0m\u001b[0mdata_string\u001b[0m\u001b[0;34m,\u001b[0m \u001b[0mformat\u001b[0m\u001b[0;34m)\u001b[0m\u001b[0;34m\u001b[0m\u001b[0;34m\u001b[0m\u001b[0m\n\u001b[0m\u001b[1;32m    578\u001b[0m     \u001b[0mtzname\u001b[0m\u001b[0;34m,\u001b[0m \u001b[0mgmtoff\u001b[0m \u001b[0;34m=\u001b[0m \u001b[0mtt\u001b[0m\u001b[0;34m[\u001b[0m\u001b[0;34m-\u001b[0m\u001b[0;36m2\u001b[0m\u001b[0;34m:\u001b[0m\u001b[0;34m]\u001b[0m\u001b[0;34m\u001b[0m\u001b[0;34m\u001b[0m\u001b[0m\n\u001b[1;32m    579\u001b[0m     \u001b[0margs\u001b[0m \u001b[0;34m=\u001b[0m \u001b[0mtt\u001b[0m\u001b[0;34m[\u001b[0m\u001b[0;34m:\u001b[0m\u001b[0;36m6\u001b[0m\u001b[0;34m]\u001b[0m \u001b[0;34m+\u001b[0m \u001b[0;34m(\u001b[0m\u001b[0mfraction\u001b[0m\u001b[0;34m,\u001b[0m\u001b[0;34m)\u001b[0m\u001b[0;34m\u001b[0m\u001b[0;34m\u001b[0m\u001b[0m\n",
      "\u001b[0;32m/usr/local/lib/python3.7/_strptime.py\u001b[0m in \u001b[0;36m_strptime\u001b[0;34m(data_string, format)\u001b[0m\n\u001b[1;32m    360\u001b[0m     \u001b[0;32mif\u001b[0m \u001b[0mlen\u001b[0m\u001b[0;34m(\u001b[0m\u001b[0mdata_string\u001b[0m\u001b[0;34m)\u001b[0m \u001b[0;34m!=\u001b[0m \u001b[0mfound\u001b[0m\u001b[0;34m.\u001b[0m\u001b[0mend\u001b[0m\u001b[0;34m(\u001b[0m\u001b[0;34m)\u001b[0m\u001b[0;34m:\u001b[0m\u001b[0;34m\u001b[0m\u001b[0;34m\u001b[0m\u001b[0m\n\u001b[1;32m    361\u001b[0m         raise ValueError(\"unconverted data remains: %s\" %\n\u001b[0;32m--> 362\u001b[0;31m                           data_string[found.end():])\n\u001b[0m\u001b[1;32m    363\u001b[0m \u001b[0;34m\u001b[0m\u001b[0m\n\u001b[1;32m    364\u001b[0m     \u001b[0miso_year\u001b[0m \u001b[0;34m=\u001b[0m \u001b[0myear\u001b[0m \u001b[0;34m=\u001b[0m \u001b[0;32mNone\u001b[0m\u001b[0;34m\u001b[0m\u001b[0;34m\u001b[0m\u001b[0m\n",
      "\u001b[0;31mValueError\u001b[0m: unconverted data remains:  15:53:39 IST"
     ]
    }
   ],
   "source": [
    "now = datetime.strptime(now_str, \"%d-%m-%Y\")\n",
    "print(now)\n",
    "print(type(now))\n",
    "\n",
    "# Note: It's expected to have an error below"
   ]
  },
  {
   "cell_type": "markdown",
   "metadata": {},
   "source": [
    "------------------------------"
   ]
  },
  {
   "cell_type": "markdown",
   "metadata": {},
   "source": [
    "### Recipe #7: DateTime object & Timezones"
   ]
  },
  {
   "cell_type": "code",
   "execution_count": 30,
   "metadata": {},
   "outputs": [],
   "source": [
    "from datetime import datetime"
   ]
  },
  {
   "cell_type": "code",
   "execution_count": 31,
   "metadata": {},
   "outputs": [
    {
     "name": "stdout",
     "output_type": "stream",
     "text": [
      "2019-11-16 14:35:13.505357\n"
     ]
    }
   ],
   "source": [
    "now_tz_unaware = datetime.now()                   # Timezone naive datetime object\n",
    "print(now_tz_unaware)"
   ]
  },
  {
   "cell_type": "code",
   "execution_count": 32,
   "metadata": {},
   "outputs": [
    {
     "name": "stdout",
     "output_type": "stream",
     "text": [
      "None\n"
     ]
    }
   ],
   "source": [
    "print(now_tz_unaware.tzinfo)"
   ]
  },
  {
   "cell_type": "code",
   "execution_count": 33,
   "metadata": {},
   "outputs": [
    {
     "name": "stdout",
     "output_type": "stream",
     "text": [
      "2019-11-16 14:35:14.175266+05:30\n"
     ]
    }
   ],
   "source": [
    "now_tz_aware = datetime.now().astimezone()      # Timezone aware datetime object\n",
    "print(now_tz_aware)"
   ]
  },
  {
   "cell_type": "code",
   "execution_count": 34,
   "metadata": {},
   "outputs": [
    {
     "name": "stdout",
     "output_type": "stream",
     "text": [
      "IST\n"
     ]
    }
   ],
   "source": [
    "print(now_tz_aware.tzinfo)"
   ]
  },
  {
   "cell_type": "code",
   "execution_count": 35,
   "metadata": {},
   "outputs": [
    {
     "name": "stdout",
     "output_type": "stream",
     "text": [
      "2019-11-16 14:35:13.505357+05:30\n",
      "IST\n"
     ]
    }
   ],
   "source": [
    "# Add timezone information to timezone naive datetime object\n",
    "new_tz_aware = now_tz_unaware.replace(tzinfo=now_tz_aware.tzinfo)\n",
    "print(new_tz_aware)\n",
    "print(new_tz_aware.tzinfo)"
   ]
  },
  {
   "cell_type": "code",
   "execution_count": 36,
   "metadata": {},
   "outputs": [
    {
     "data": {
      "text/plain": [
       "True"
      ]
     },
     "execution_count": 36,
     "metadata": {},
     "output_type": "execute_result"
    }
   ],
   "source": [
    "# Datetime operations cannot be done between timezone naive & timezone aware datatypes\n",
    "new_tz_aware < now_tz_aware"
   ]
  },
  {
   "cell_type": "markdown",
   "metadata": {},
   "source": [
    "------------------------------"
   ]
  },
  {
   "cell_type": "markdown",
   "metadata": {},
   "source": [
    "### Recipe #8: Creating Pandas.Dataframe"
   ]
  },
  {
   "cell_type": "code",
   "execution_count": 37,
   "metadata": {},
   "outputs": [],
   "source": [
    "import pandas\n",
    "import datetime"
   ]
  },
  {
   "cell_type": "code",
   "execution_count": 38,
   "metadata": {},
   "outputs": [],
   "source": [
    "# Reading a time-series data (in a form of a list of dict objects) into DataFrame object\n",
    "\n",
    "# Assume this sample timeseries data, which is typically returned by 3rd party apis for historical data\n",
    "time_series_data = \\\n",
    "[{'date': datetime.datetime(2019, 11, 13, 9, 0),\n",
    "  'open': 71.8075,\n",
    "  'high': 71.845,\n",
    "  'low': 71.7775,\n",
    "  'close': 71.7925,\n",
    "  'volume': 219512},\n",
    " {'date': datetime.datetime(2019, 11, 13, 9, 15),\n",
    "  'open': 71.7925,\n",
    "  'high': 71.8,\n",
    "  'low': 71.78,\n",
    "  'close': 71.7925,\n",
    "  'volume': 59252},\n",
    " {'date': datetime.datetime(2019, 11, 13, 9, 30),\n",
    "  'open': 71.7925,\n",
    "  'high': 71.8125,\n",
    "  'low': 71.76,\n",
    "  'close': 71.7625,\n",
    "  'volume': 57187},\n",
    " {'date': datetime.datetime(2019, 11, 13, 9, 45),\n",
    "  'open': 71.76,\n",
    "  'high': 71.765,\n",
    "  'low': 71.735,\n",
    "  'close': 71.7425,\n",
    "  'volume': 43048}, \n",
    "{'date': datetime.datetime(2019, 11, 13, 10, 0),\n",
    "  'open': 71.7425,\n",
    "  'high': 71.78,\n",
    "  'low': 71.7425,\n",
    "  'close': 71.7775,\n",
    "  'volume': 45863},\n",
    " {'date': datetime.datetime(2019, 11, 13, 10, 15),\n",
    "  'open': 71.775,\n",
    "  'high': 71.8225,\n",
    "  'low': 71.77,\n",
    "  'close': 71.815,\n",
    "  'volume': 42460},\n",
    " {'date': datetime.datetime(2019, 11, 13, 10, 30),\n",
    "  'open': 71.815,\n",
    "  'high': 71.83,\n",
    "  'low': 71.7775,\n",
    "  'close': 71.78,\n",
    "  'volume': 62403},\n",
    " {'date': datetime.datetime(2019, 11, 13, 10, 45),\n",
    "  'open': 71.775,\n",
    "  'high': 71.7875,\n",
    "  'low': 71.7475,\n",
    "  'close': 71.7525,\n",
    "  'volume': 34090},\n",
    " {'date': datetime.datetime(2019, 11, 13, 11, 0),\n",
    "  'open': 71.7525,\n",
    "  'high': 71.7825,\n",
    "  'low': 71.7475,\n",
    "  'close': 71.7625,\n",
    "  'volume': 39320},\n",
    " {'date': datetime.datetime(2019, 11, 13, 11, 15),\n",
    "  'open': 71.7625,\n",
    "  'high': 71.7925,\n",
    "  'low': 71.76,\n",
    "  'close': 71.7875,\n",
    "  'volume': 20190}]\n"
   ]
  },
  {
   "cell_type": "code",
   "execution_count": 39,
   "metadata": {},
   "outputs": [
    {
     "data": {
      "text/html": [
       "<div>\n",
       "<style scoped>\n",
       "    .dataframe tbody tr th:only-of-type {\n",
       "        vertical-align: middle;\n",
       "    }\n",
       "\n",
       "    .dataframe tbody tr th {\n",
       "        vertical-align: top;\n",
       "    }\n",
       "\n",
       "    .dataframe thead th {\n",
       "        text-align: right;\n",
       "    }\n",
       "</style>\n",
       "<table border=\"1\" class=\"dataframe\">\n",
       "  <thead>\n",
       "    <tr style=\"text-align: right;\">\n",
       "      <th></th>\n",
       "      <th>close</th>\n",
       "      <th>date</th>\n",
       "      <th>high</th>\n",
       "      <th>low</th>\n",
       "      <th>open</th>\n",
       "      <th>volume</th>\n",
       "    </tr>\n",
       "  </thead>\n",
       "  <tbody>\n",
       "    <tr>\n",
       "      <th>0</th>\n",
       "      <td>71.7925</td>\n",
       "      <td>2019-11-13 09:00:00</td>\n",
       "      <td>71.8450</td>\n",
       "      <td>71.7775</td>\n",
       "      <td>71.8075</td>\n",
       "      <td>219512</td>\n",
       "    </tr>\n",
       "    <tr>\n",
       "      <th>1</th>\n",
       "      <td>71.7925</td>\n",
       "      <td>2019-11-13 09:15:00</td>\n",
       "      <td>71.8000</td>\n",
       "      <td>71.7800</td>\n",
       "      <td>71.7925</td>\n",
       "      <td>59252</td>\n",
       "    </tr>\n",
       "    <tr>\n",
       "      <th>2</th>\n",
       "      <td>71.7625</td>\n",
       "      <td>2019-11-13 09:30:00</td>\n",
       "      <td>71.8125</td>\n",
       "      <td>71.7600</td>\n",
       "      <td>71.7925</td>\n",
       "      <td>57187</td>\n",
       "    </tr>\n",
       "    <tr>\n",
       "      <th>3</th>\n",
       "      <td>71.7425</td>\n",
       "      <td>2019-11-13 09:45:00</td>\n",
       "      <td>71.7650</td>\n",
       "      <td>71.7350</td>\n",
       "      <td>71.7600</td>\n",
       "      <td>43048</td>\n",
       "    </tr>\n",
       "    <tr>\n",
       "      <th>4</th>\n",
       "      <td>71.7775</td>\n",
       "      <td>2019-11-13 10:00:00</td>\n",
       "      <td>71.7800</td>\n",
       "      <td>71.7425</td>\n",
       "      <td>71.7425</td>\n",
       "      <td>45863</td>\n",
       "    </tr>\n",
       "    <tr>\n",
       "      <th>5</th>\n",
       "      <td>71.8150</td>\n",
       "      <td>2019-11-13 10:15:00</td>\n",
       "      <td>71.8225</td>\n",
       "      <td>71.7700</td>\n",
       "      <td>71.7750</td>\n",
       "      <td>42460</td>\n",
       "    </tr>\n",
       "    <tr>\n",
       "      <th>6</th>\n",
       "      <td>71.7800</td>\n",
       "      <td>2019-11-13 10:30:00</td>\n",
       "      <td>71.8300</td>\n",
       "      <td>71.7775</td>\n",
       "      <td>71.8150</td>\n",
       "      <td>62403</td>\n",
       "    </tr>\n",
       "    <tr>\n",
       "      <th>7</th>\n",
       "      <td>71.7525</td>\n",
       "      <td>2019-11-13 10:45:00</td>\n",
       "      <td>71.7875</td>\n",
       "      <td>71.7475</td>\n",
       "      <td>71.7750</td>\n",
       "      <td>34090</td>\n",
       "    </tr>\n",
       "    <tr>\n",
       "      <th>8</th>\n",
       "      <td>71.7625</td>\n",
       "      <td>2019-11-13 11:00:00</td>\n",
       "      <td>71.7825</td>\n",
       "      <td>71.7475</td>\n",
       "      <td>71.7525</td>\n",
       "      <td>39320</td>\n",
       "    </tr>\n",
       "    <tr>\n",
       "      <th>9</th>\n",
       "      <td>71.7875</td>\n",
       "      <td>2019-11-13 11:15:00</td>\n",
       "      <td>71.7925</td>\n",
       "      <td>71.7600</td>\n",
       "      <td>71.7625</td>\n",
       "      <td>20190</td>\n",
       "    </tr>\n",
       "  </tbody>\n",
       "</table>\n",
       "</div>"
      ],
      "text/plain": [
       "     close                date     high      low     open  volume\n",
       "0  71.7925 2019-11-13 09:00:00  71.8450  71.7775  71.8075  219512\n",
       "1  71.7925 2019-11-13 09:15:00  71.8000  71.7800  71.7925   59252\n",
       "2  71.7625 2019-11-13 09:30:00  71.8125  71.7600  71.7925   57187\n",
       "3  71.7425 2019-11-13 09:45:00  71.7650  71.7350  71.7600   43048\n",
       "4  71.7775 2019-11-13 10:00:00  71.7800  71.7425  71.7425   45863\n",
       "5  71.8150 2019-11-13 10:15:00  71.8225  71.7700  71.7750   42460\n",
       "6  71.7800 2019-11-13 10:30:00  71.8300  71.7775  71.8150   62403\n",
       "7  71.7525 2019-11-13 10:45:00  71.7875  71.7475  71.7750   34090\n",
       "8  71.7625 2019-11-13 11:00:00  71.7825  71.7475  71.7525   39320\n",
       "9  71.7875 2019-11-13 11:15:00  71.7925  71.7600  71.7625   20190"
      ]
     },
     "execution_count": 39,
     "metadata": {},
     "output_type": "execute_result"
    }
   ],
   "source": [
    "# Create a DataFrame object from time series data\n",
    "df = pandas.DataFrame(time_series_data)\n",
    "df"
   ]
  },
  {
   "cell_type": "code",
   "execution_count": 40,
   "metadata": {},
   "outputs": [
    {
     "data": {
      "text/html": [
       "<div>\n",
       "<style scoped>\n",
       "    .dataframe tbody tr th:only-of-type {\n",
       "        vertical-align: middle;\n",
       "    }\n",
       "\n",
       "    .dataframe tbody tr th {\n",
       "        vertical-align: top;\n",
       "    }\n",
       "\n",
       "    .dataframe thead th {\n",
       "        text-align: right;\n",
       "    }\n",
       "</style>\n",
       "<table border=\"1\" class=\"dataframe\">\n",
       "  <thead>\n",
       "    <tr style=\"text-align: right;\">\n",
       "      <th></th>\n",
       "      <th>date</th>\n",
       "      <th>open</th>\n",
       "      <th>high</th>\n",
       "      <th>low</th>\n",
       "      <th>close</th>\n",
       "      <th>volume</th>\n",
       "    </tr>\n",
       "  </thead>\n",
       "  <tbody>\n",
       "    <tr>\n",
       "      <th>0</th>\n",
       "      <td>2019-11-13 09:00:00</td>\n",
       "      <td>71.8075</td>\n",
       "      <td>71.8450</td>\n",
       "      <td>71.7775</td>\n",
       "      <td>71.7925</td>\n",
       "      <td>219512</td>\n",
       "    </tr>\n",
       "    <tr>\n",
       "      <th>1</th>\n",
       "      <td>2019-11-13 09:15:00</td>\n",
       "      <td>71.7925</td>\n",
       "      <td>71.8000</td>\n",
       "      <td>71.7800</td>\n",
       "      <td>71.7925</td>\n",
       "      <td>59252</td>\n",
       "    </tr>\n",
       "    <tr>\n",
       "      <th>2</th>\n",
       "      <td>2019-11-13 09:30:00</td>\n",
       "      <td>71.7925</td>\n",
       "      <td>71.8125</td>\n",
       "      <td>71.7600</td>\n",
       "      <td>71.7625</td>\n",
       "      <td>57187</td>\n",
       "    </tr>\n",
       "    <tr>\n",
       "      <th>3</th>\n",
       "      <td>2019-11-13 09:45:00</td>\n",
       "      <td>71.7600</td>\n",
       "      <td>71.7650</td>\n",
       "      <td>71.7350</td>\n",
       "      <td>71.7425</td>\n",
       "      <td>43048</td>\n",
       "    </tr>\n",
       "    <tr>\n",
       "      <th>4</th>\n",
       "      <td>2019-11-13 10:00:00</td>\n",
       "      <td>71.7425</td>\n",
       "      <td>71.7800</td>\n",
       "      <td>71.7425</td>\n",
       "      <td>71.7775</td>\n",
       "      <td>45863</td>\n",
       "    </tr>\n",
       "    <tr>\n",
       "      <th>5</th>\n",
       "      <td>2019-11-13 10:15:00</td>\n",
       "      <td>71.7750</td>\n",
       "      <td>71.8225</td>\n",
       "      <td>71.7700</td>\n",
       "      <td>71.8150</td>\n",
       "      <td>42460</td>\n",
       "    </tr>\n",
       "    <tr>\n",
       "      <th>6</th>\n",
       "      <td>2019-11-13 10:30:00</td>\n",
       "      <td>71.8150</td>\n",
       "      <td>71.8300</td>\n",
       "      <td>71.7775</td>\n",
       "      <td>71.7800</td>\n",
       "      <td>62403</td>\n",
       "    </tr>\n",
       "    <tr>\n",
       "      <th>7</th>\n",
       "      <td>2019-11-13 10:45:00</td>\n",
       "      <td>71.7750</td>\n",
       "      <td>71.7875</td>\n",
       "      <td>71.7475</td>\n",
       "      <td>71.7525</td>\n",
       "      <td>34090</td>\n",
       "    </tr>\n",
       "    <tr>\n",
       "      <th>8</th>\n",
       "      <td>2019-11-13 11:00:00</td>\n",
       "      <td>71.7525</td>\n",
       "      <td>71.7825</td>\n",
       "      <td>71.7475</td>\n",
       "      <td>71.7625</td>\n",
       "      <td>39320</td>\n",
       "    </tr>\n",
       "    <tr>\n",
       "      <th>9</th>\n",
       "      <td>2019-11-13 11:15:00</td>\n",
       "      <td>71.7625</td>\n",
       "      <td>71.7925</td>\n",
       "      <td>71.7600</td>\n",
       "      <td>71.7875</td>\n",
       "      <td>20190</td>\n",
       "    </tr>\n",
       "  </tbody>\n",
       "</table>\n",
       "</div>"
      ],
      "text/plain": [
       "                 date     open     high      low    close  volume\n",
       "0 2019-11-13 09:00:00  71.8075  71.8450  71.7775  71.7925  219512\n",
       "1 2019-11-13 09:15:00  71.7925  71.8000  71.7800  71.7925   59252\n",
       "2 2019-11-13 09:30:00  71.7925  71.8125  71.7600  71.7625   57187\n",
       "3 2019-11-13 09:45:00  71.7600  71.7650  71.7350  71.7425   43048\n",
       "4 2019-11-13 10:00:00  71.7425  71.7800  71.7425  71.7775   45863\n",
       "5 2019-11-13 10:15:00  71.7750  71.8225  71.7700  71.8150   42460\n",
       "6 2019-11-13 10:30:00  71.8150  71.8300  71.7775  71.7800   62403\n",
       "7 2019-11-13 10:45:00  71.7750  71.7875  71.7475  71.7525   34090\n",
       "8 2019-11-13 11:00:00  71.7525  71.7825  71.7475  71.7625   39320\n",
       "9 2019-11-13 11:15:00  71.7625  71.7925  71.7600  71.7875   20190"
      ]
     },
     "execution_count": 40,
     "metadata": {},
     "output_type": "execute_result"
    }
   ],
   "source": [
    "# Create a DataFrame object from time series data, with columns in specified order\n",
    "df = pandas.DataFrame(time_series_data, columns=['date', 'open', 'high', 'low', 'close', 'volume'])\n",
    "df"
   ]
  },
  {
   "cell_type": "markdown",
   "metadata": {},
   "source": [
    "------------------------------"
   ]
  },
  {
   "cell_type": "markdown",
   "metadata": {},
   "source": [
    "### Recipes 9: Dataframe Manipulation: Rename, Rearrange, Reverse, Extract"
   ]
  },
  {
   "cell_type": "code",
   "execution_count": 41,
   "metadata": {},
   "outputs": [
    {
     "data": {
      "text/html": [
       "<div>\n",
       "<style scoped>\n",
       "    .dataframe tbody tr th:only-of-type {\n",
       "        vertical-align: middle;\n",
       "    }\n",
       "\n",
       "    .dataframe tbody tr th {\n",
       "        vertical-align: top;\n",
       "    }\n",
       "\n",
       "    .dataframe thead th {\n",
       "        text-align: right;\n",
       "    }\n",
       "</style>\n",
       "<table border=\"1\" class=\"dataframe\">\n",
       "  <thead>\n",
       "    <tr style=\"text-align: right;\">\n",
       "      <th></th>\n",
       "      <th>timestamp</th>\n",
       "      <th>open</th>\n",
       "      <th>high</th>\n",
       "      <th>low</th>\n",
       "      <th>close</th>\n",
       "      <th>volume</th>\n",
       "    </tr>\n",
       "  </thead>\n",
       "  <tbody>\n",
       "    <tr>\n",
       "      <th>0</th>\n",
       "      <td>2019-11-13 09:00:00</td>\n",
       "      <td>71.8075</td>\n",
       "      <td>71.8450</td>\n",
       "      <td>71.7775</td>\n",
       "      <td>71.7925</td>\n",
       "      <td>219512</td>\n",
       "    </tr>\n",
       "    <tr>\n",
       "      <th>1</th>\n",
       "      <td>2019-11-13 09:15:00</td>\n",
       "      <td>71.7925</td>\n",
       "      <td>71.8000</td>\n",
       "      <td>71.7800</td>\n",
       "      <td>71.7925</td>\n",
       "      <td>59252</td>\n",
       "    </tr>\n",
       "    <tr>\n",
       "      <th>2</th>\n",
       "      <td>2019-11-13 09:30:00</td>\n",
       "      <td>71.7925</td>\n",
       "      <td>71.8125</td>\n",
       "      <td>71.7600</td>\n",
       "      <td>71.7625</td>\n",
       "      <td>57187</td>\n",
       "    </tr>\n",
       "    <tr>\n",
       "      <th>3</th>\n",
       "      <td>2019-11-13 09:45:00</td>\n",
       "      <td>71.7600</td>\n",
       "      <td>71.7650</td>\n",
       "      <td>71.7350</td>\n",
       "      <td>71.7425</td>\n",
       "      <td>43048</td>\n",
       "    </tr>\n",
       "    <tr>\n",
       "      <th>4</th>\n",
       "      <td>2019-11-13 10:00:00</td>\n",
       "      <td>71.7425</td>\n",
       "      <td>71.7800</td>\n",
       "      <td>71.7425</td>\n",
       "      <td>71.7775</td>\n",
       "      <td>45863</td>\n",
       "    </tr>\n",
       "    <tr>\n",
       "      <th>5</th>\n",
       "      <td>2019-11-13 10:15:00</td>\n",
       "      <td>71.7750</td>\n",
       "      <td>71.8225</td>\n",
       "      <td>71.7700</td>\n",
       "      <td>71.8150</td>\n",
       "      <td>42460</td>\n",
       "    </tr>\n",
       "    <tr>\n",
       "      <th>6</th>\n",
       "      <td>2019-11-13 10:30:00</td>\n",
       "      <td>71.8150</td>\n",
       "      <td>71.8300</td>\n",
       "      <td>71.7775</td>\n",
       "      <td>71.7800</td>\n",
       "      <td>62403</td>\n",
       "    </tr>\n",
       "    <tr>\n",
       "      <th>7</th>\n",
       "      <td>2019-11-13 10:45:00</td>\n",
       "      <td>71.7750</td>\n",
       "      <td>71.7875</td>\n",
       "      <td>71.7475</td>\n",
       "      <td>71.7525</td>\n",
       "      <td>34090</td>\n",
       "    </tr>\n",
       "    <tr>\n",
       "      <th>8</th>\n",
       "      <td>2019-11-13 11:00:00</td>\n",
       "      <td>71.7525</td>\n",
       "      <td>71.7825</td>\n",
       "      <td>71.7475</td>\n",
       "      <td>71.7625</td>\n",
       "      <td>39320</td>\n",
       "    </tr>\n",
       "    <tr>\n",
       "      <th>9</th>\n",
       "      <td>2019-11-13 11:15:00</td>\n",
       "      <td>71.7625</td>\n",
       "      <td>71.7925</td>\n",
       "      <td>71.7600</td>\n",
       "      <td>71.7875</td>\n",
       "      <td>20190</td>\n",
       "    </tr>\n",
       "  </tbody>\n",
       "</table>\n",
       "</div>"
      ],
      "text/plain": [
       "            timestamp     open     high      low    close  volume\n",
       "0 2019-11-13 09:00:00  71.8075  71.8450  71.7775  71.7925  219512\n",
       "1 2019-11-13 09:15:00  71.7925  71.8000  71.7800  71.7925   59252\n",
       "2 2019-11-13 09:30:00  71.7925  71.8125  71.7600  71.7625   57187\n",
       "3 2019-11-13 09:45:00  71.7600  71.7650  71.7350  71.7425   43048\n",
       "4 2019-11-13 10:00:00  71.7425  71.7800  71.7425  71.7775   45863\n",
       "5 2019-11-13 10:15:00  71.7750  71.8225  71.7700  71.8150   42460\n",
       "6 2019-11-13 10:30:00  71.8150  71.8300  71.7775  71.7800   62403\n",
       "7 2019-11-13 10:45:00  71.7750  71.7875  71.7475  71.7525   34090\n",
       "8 2019-11-13 11:00:00  71.7525  71.7825  71.7475  71.7625   39320\n",
       "9 2019-11-13 11:15:00  71.7625  71.7925  71.7600  71.7875   20190"
      ]
     },
     "execution_count": 41,
     "metadata": {},
     "output_type": "execute_result"
    }
   ],
   "source": [
    "# Rename a column name --> Rename column name 'date' to 'timestamp'\n",
    "df.rename(columns={'date':'timestamp'}, inplace=True)\n",
    "df"
   ]
  },
  {
   "cell_type": "code",
   "execution_count": 42,
   "metadata": {},
   "outputs": [
    {
     "data": {
      "text/html": [
       "<div>\n",
       "<style scoped>\n",
       "    .dataframe tbody tr th:only-of-type {\n",
       "        vertical-align: middle;\n",
       "    }\n",
       "\n",
       "    .dataframe tbody tr th {\n",
       "        vertical-align: top;\n",
       "    }\n",
       "\n",
       "    .dataframe thead th {\n",
       "        text-align: right;\n",
       "    }\n",
       "</style>\n",
       "<table border=\"1\" class=\"dataframe\">\n",
       "  <thead>\n",
       "    <tr style=\"text-align: right;\">\n",
       "      <th></th>\n",
       "      <th>volume</th>\n",
       "      <th>close</th>\n",
       "      <th>timestamp</th>\n",
       "      <th>high</th>\n",
       "      <th>open</th>\n",
       "      <th>low</th>\n",
       "    </tr>\n",
       "  </thead>\n",
       "  <tbody>\n",
       "    <tr>\n",
       "      <th>0</th>\n",
       "      <td>219512</td>\n",
       "      <td>71.7925</td>\n",
       "      <td>2019-11-13 09:00:00</td>\n",
       "      <td>71.8450</td>\n",
       "      <td>71.8075</td>\n",
       "      <td>71.7775</td>\n",
       "    </tr>\n",
       "    <tr>\n",
       "      <th>1</th>\n",
       "      <td>59252</td>\n",
       "      <td>71.7925</td>\n",
       "      <td>2019-11-13 09:15:00</td>\n",
       "      <td>71.8000</td>\n",
       "      <td>71.7925</td>\n",
       "      <td>71.7800</td>\n",
       "    </tr>\n",
       "    <tr>\n",
       "      <th>2</th>\n",
       "      <td>57187</td>\n",
       "      <td>71.7625</td>\n",
       "      <td>2019-11-13 09:30:00</td>\n",
       "      <td>71.8125</td>\n",
       "      <td>71.7925</td>\n",
       "      <td>71.7600</td>\n",
       "    </tr>\n",
       "    <tr>\n",
       "      <th>3</th>\n",
       "      <td>43048</td>\n",
       "      <td>71.7425</td>\n",
       "      <td>2019-11-13 09:45:00</td>\n",
       "      <td>71.7650</td>\n",
       "      <td>71.7600</td>\n",
       "      <td>71.7350</td>\n",
       "    </tr>\n",
       "    <tr>\n",
       "      <th>4</th>\n",
       "      <td>45863</td>\n",
       "      <td>71.7775</td>\n",
       "      <td>2019-11-13 10:00:00</td>\n",
       "      <td>71.7800</td>\n",
       "      <td>71.7425</td>\n",
       "      <td>71.7425</td>\n",
       "    </tr>\n",
       "    <tr>\n",
       "      <th>5</th>\n",
       "      <td>42460</td>\n",
       "      <td>71.8150</td>\n",
       "      <td>2019-11-13 10:15:00</td>\n",
       "      <td>71.8225</td>\n",
       "      <td>71.7750</td>\n",
       "      <td>71.7700</td>\n",
       "    </tr>\n",
       "    <tr>\n",
       "      <th>6</th>\n",
       "      <td>62403</td>\n",
       "      <td>71.7800</td>\n",
       "      <td>2019-11-13 10:30:00</td>\n",
       "      <td>71.8300</td>\n",
       "      <td>71.8150</td>\n",
       "      <td>71.7775</td>\n",
       "    </tr>\n",
       "    <tr>\n",
       "      <th>7</th>\n",
       "      <td>34090</td>\n",
       "      <td>71.7525</td>\n",
       "      <td>2019-11-13 10:45:00</td>\n",
       "      <td>71.7875</td>\n",
       "      <td>71.7750</td>\n",
       "      <td>71.7475</td>\n",
       "    </tr>\n",
       "    <tr>\n",
       "      <th>8</th>\n",
       "      <td>39320</td>\n",
       "      <td>71.7625</td>\n",
       "      <td>2019-11-13 11:00:00</td>\n",
       "      <td>71.7825</td>\n",
       "      <td>71.7525</td>\n",
       "      <td>71.7475</td>\n",
       "    </tr>\n",
       "    <tr>\n",
       "      <th>9</th>\n",
       "      <td>20190</td>\n",
       "      <td>71.7875</td>\n",
       "      <td>2019-11-13 11:15:00</td>\n",
       "      <td>71.7925</td>\n",
       "      <td>71.7625</td>\n",
       "      <td>71.7600</td>\n",
       "    </tr>\n",
       "  </tbody>\n",
       "</table>\n",
       "</div>"
      ],
      "text/plain": [
       "   volume    close           timestamp     high     open      low\n",
       "0  219512  71.7925 2019-11-13 09:00:00  71.8450  71.8075  71.7775\n",
       "1   59252  71.7925 2019-11-13 09:15:00  71.8000  71.7925  71.7800\n",
       "2   57187  71.7625 2019-11-13 09:30:00  71.8125  71.7925  71.7600\n",
       "3   43048  71.7425 2019-11-13 09:45:00  71.7650  71.7600  71.7350\n",
       "4   45863  71.7775 2019-11-13 10:00:00  71.7800  71.7425  71.7425\n",
       "5   42460  71.8150 2019-11-13 10:15:00  71.8225  71.7750  71.7700\n",
       "6   62403  71.7800 2019-11-13 10:30:00  71.8300  71.8150  71.7775\n",
       "7   34090  71.7525 2019-11-13 10:45:00  71.7875  71.7750  71.7475\n",
       "8   39320  71.7625 2019-11-13 11:00:00  71.7825  71.7525  71.7475\n",
       "9   20190  71.7875 2019-11-13 11:15:00  71.7925  71.7625  71.7600"
      ]
     },
     "execution_count": 42,
     "metadata": {},
     "output_type": "execute_result"
    }
   ],
   "source": [
    "# Change order of columns --> Let's make it in this order 'volume', 'close', 'timestamp', 'high', 'open', 'low'\n",
    "df.reindex(columns=['volume', 'close', 'timestamp', 'high', 'open', 'low'])"
   ]
  },
  {
   "cell_type": "code",
   "execution_count": 43,
   "metadata": {},
   "outputs": [
    {
     "data": {
      "text/html": [
       "<div>\n",
       "<style scoped>\n",
       "    .dataframe tbody tr th:only-of-type {\n",
       "        vertical-align: middle;\n",
       "    }\n",
       "\n",
       "    .dataframe tbody tr th {\n",
       "        vertical-align: top;\n",
       "    }\n",
       "\n",
       "    .dataframe thead th {\n",
       "        text-align: right;\n",
       "    }\n",
       "</style>\n",
       "<table border=\"1\" class=\"dataframe\">\n",
       "  <thead>\n",
       "    <tr style=\"text-align: right;\">\n",
       "      <th></th>\n",
       "      <th>timestamp</th>\n",
       "      <th>open</th>\n",
       "      <th>high</th>\n",
       "      <th>low</th>\n",
       "      <th>close</th>\n",
       "      <th>volume</th>\n",
       "    </tr>\n",
       "  </thead>\n",
       "  <tbody>\n",
       "    <tr>\n",
       "      <th>9</th>\n",
       "      <td>2019-11-13 11:15:00</td>\n",
       "      <td>71.7625</td>\n",
       "      <td>71.7925</td>\n",
       "      <td>71.7600</td>\n",
       "      <td>71.7875</td>\n",
       "      <td>20190</td>\n",
       "    </tr>\n",
       "    <tr>\n",
       "      <th>8</th>\n",
       "      <td>2019-11-13 11:00:00</td>\n",
       "      <td>71.7525</td>\n",
       "      <td>71.7825</td>\n",
       "      <td>71.7475</td>\n",
       "      <td>71.7625</td>\n",
       "      <td>39320</td>\n",
       "    </tr>\n",
       "    <tr>\n",
       "      <th>7</th>\n",
       "      <td>2019-11-13 10:45:00</td>\n",
       "      <td>71.7750</td>\n",
       "      <td>71.7875</td>\n",
       "      <td>71.7475</td>\n",
       "      <td>71.7525</td>\n",
       "      <td>34090</td>\n",
       "    </tr>\n",
       "    <tr>\n",
       "      <th>6</th>\n",
       "      <td>2019-11-13 10:30:00</td>\n",
       "      <td>71.8150</td>\n",
       "      <td>71.8300</td>\n",
       "      <td>71.7775</td>\n",
       "      <td>71.7800</td>\n",
       "      <td>62403</td>\n",
       "    </tr>\n",
       "    <tr>\n",
       "      <th>5</th>\n",
       "      <td>2019-11-13 10:15:00</td>\n",
       "      <td>71.7750</td>\n",
       "      <td>71.8225</td>\n",
       "      <td>71.7700</td>\n",
       "      <td>71.8150</td>\n",
       "      <td>42460</td>\n",
       "    </tr>\n",
       "    <tr>\n",
       "      <th>4</th>\n",
       "      <td>2019-11-13 10:00:00</td>\n",
       "      <td>71.7425</td>\n",
       "      <td>71.7800</td>\n",
       "      <td>71.7425</td>\n",
       "      <td>71.7775</td>\n",
       "      <td>45863</td>\n",
       "    </tr>\n",
       "    <tr>\n",
       "      <th>3</th>\n",
       "      <td>2019-11-13 09:45:00</td>\n",
       "      <td>71.7600</td>\n",
       "      <td>71.7650</td>\n",
       "      <td>71.7350</td>\n",
       "      <td>71.7425</td>\n",
       "      <td>43048</td>\n",
       "    </tr>\n",
       "    <tr>\n",
       "      <th>2</th>\n",
       "      <td>2019-11-13 09:30:00</td>\n",
       "      <td>71.7925</td>\n",
       "      <td>71.8125</td>\n",
       "      <td>71.7600</td>\n",
       "      <td>71.7625</td>\n",
       "      <td>57187</td>\n",
       "    </tr>\n",
       "    <tr>\n",
       "      <th>1</th>\n",
       "      <td>2019-11-13 09:15:00</td>\n",
       "      <td>71.7925</td>\n",
       "      <td>71.8000</td>\n",
       "      <td>71.7800</td>\n",
       "      <td>71.7925</td>\n",
       "      <td>59252</td>\n",
       "    </tr>\n",
       "    <tr>\n",
       "      <th>0</th>\n",
       "      <td>2019-11-13 09:00:00</td>\n",
       "      <td>71.8075</td>\n",
       "      <td>71.8450</td>\n",
       "      <td>71.7775</td>\n",
       "      <td>71.7925</td>\n",
       "      <td>219512</td>\n",
       "    </tr>\n",
       "  </tbody>\n",
       "</table>\n",
       "</div>"
      ],
      "text/plain": [
       "            timestamp     open     high      low    close  volume\n",
       "9 2019-11-13 11:15:00  71.7625  71.7925  71.7600  71.7875   20190\n",
       "8 2019-11-13 11:00:00  71.7525  71.7825  71.7475  71.7625   39320\n",
       "7 2019-11-13 10:45:00  71.7750  71.7875  71.7475  71.7525   34090\n",
       "6 2019-11-13 10:30:00  71.8150  71.8300  71.7775  71.7800   62403\n",
       "5 2019-11-13 10:15:00  71.7750  71.8225  71.7700  71.8150   42460\n",
       "4 2019-11-13 10:00:00  71.7425  71.7800  71.7425  71.7775   45863\n",
       "3 2019-11-13 09:45:00  71.7600  71.7650  71.7350  71.7425   43048\n",
       "2 2019-11-13 09:30:00  71.7925  71.8125  71.7600  71.7625   57187\n",
       "1 2019-11-13 09:15:00  71.7925  71.8000  71.7800  71.7925   59252\n",
       "0 2019-11-13 09:00:00  71.8075  71.8450  71.7775  71.7925  219512"
      ]
     },
     "execution_count": 43,
     "metadata": {},
     "output_type": "execute_result"
    }
   ],
   "source": [
    "# Reverse the rows\n",
    "df[::-1]"
   ]
  },
  {
   "cell_type": "code",
   "execution_count": 44,
   "metadata": {},
   "outputs": [
    {
     "data": {
      "text/plain": [
       "0    71.7925\n",
       "1    71.7925\n",
       "2    71.7625\n",
       "3    71.7425\n",
       "4    71.7775\n",
       "5    71.8150\n",
       "6    71.7800\n",
       "7    71.7525\n",
       "8    71.7625\n",
       "9    71.7875\n",
       "Name: close, dtype: float64"
      ]
     },
     "execution_count": 44,
     "metadata": {},
     "output_type": "execute_result"
    }
   ],
   "source": [
    "# Extract a column using column name\n",
    "df['close']\n",
    "\n",
    "# Note: type(df['close']) is a pandas.Series object"
   ]
  },
  {
   "cell_type": "code",
   "execution_count": 45,
   "metadata": {},
   "outputs": [
    {
     "data": {
      "text/plain": [
       "0    71.7925\n",
       "1    71.7925\n",
       "2    71.7625\n",
       "3    71.7425\n",
       "4    71.7775\n",
       "5    71.8150\n",
       "6    71.7800\n",
       "7    71.7525\n",
       "8    71.7625\n",
       "9    71.7875\n",
       "Name: close, dtype: float64"
      ]
     },
     "execution_count": 45,
     "metadata": {},
     "output_type": "execute_result"
    }
   ],
   "source": [
    "# Extract a column using column index\n",
    "df.iloc[:, 4]"
   ]
  },
  {
   "cell_type": "code",
   "execution_count": 46,
   "metadata": {},
   "outputs": [
    {
     "data": {
      "text/plain": [
       "timestamp    2019-11-13 09:00:00\n",
       "open                     71.8075\n",
       "high                      71.845\n",
       "low                      71.7775\n",
       "close                    71.7925\n",
       "volume                    219512\n",
       "Name: 0, dtype: object"
      ]
     },
     "execution_count": 46,
     "metadata": {},
     "output_type": "execute_result"
    }
   ],
   "source": [
    "# Extract a row using index\n",
    "df.iloc[0]"
   ]
  },
  {
   "cell_type": "code",
   "execution_count": 47,
   "metadata": {},
   "outputs": [
    {
     "data": {
      "text/html": [
       "<div>\n",
       "<style scoped>\n",
       "    .dataframe tbody tr th:only-of-type {\n",
       "        vertical-align: middle;\n",
       "    }\n",
       "\n",
       "    .dataframe tbody tr th {\n",
       "        vertical-align: top;\n",
       "    }\n",
       "\n",
       "    .dataframe thead th {\n",
       "        text-align: right;\n",
       "    }\n",
       "</style>\n",
       "<table border=\"1\" class=\"dataframe\">\n",
       "  <thead>\n",
       "    <tr style=\"text-align: right;\">\n",
       "      <th></th>\n",
       "      <th>timestamp</th>\n",
       "      <th>open</th>\n",
       "    </tr>\n",
       "  </thead>\n",
       "  <tbody>\n",
       "    <tr>\n",
       "      <th>0</th>\n",
       "      <td>2019-11-13 09:00:00</td>\n",
       "      <td>71.8075</td>\n",
       "    </tr>\n",
       "    <tr>\n",
       "      <th>1</th>\n",
       "      <td>2019-11-13 09:15:00</td>\n",
       "      <td>71.7925</td>\n",
       "    </tr>\n",
       "  </tbody>\n",
       "</table>\n",
       "</div>"
      ],
      "text/plain": [
       "            timestamp     open\n",
       "0 2019-11-13 09:00:00  71.8075\n",
       "1 2019-11-13 09:15:00  71.7925"
      ]
     },
     "execution_count": 47,
     "metadata": {},
     "output_type": "execute_result"
    }
   ],
   "source": [
    "# Extract a subset --> Extract a 2x2 matrix of the first 2 entries of 'timestamp' and 'open' columns\n",
    "df.iloc[:2, :2]"
   ]
  },
  {
   "cell_type": "markdown",
   "metadata": {},
   "source": [
    "------------------------------"
   ]
  },
  {
   "cell_type": "markdown",
   "metadata": {},
   "source": [
    "### Recipes 10: Dataframe Manipulation: Apply, Sort, Concat"
   ]
  },
  {
   "cell_type": "code",
   "execution_count": 48,
   "metadata": {},
   "outputs": [
    {
     "data": {
      "text/html": [
       "<div>\n",
       "<style scoped>\n",
       "    .dataframe tbody tr th:only-of-type {\n",
       "        vertical-align: middle;\n",
       "    }\n",
       "\n",
       "    .dataframe tbody tr th {\n",
       "        vertical-align: top;\n",
       "    }\n",
       "\n",
       "    .dataframe thead th {\n",
       "        text-align: right;\n",
       "    }\n",
       "</style>\n",
       "<table border=\"1\" class=\"dataframe\">\n",
       "  <thead>\n",
       "    <tr style=\"text-align: right;\">\n",
       "      <th></th>\n",
       "      <th>timestamp</th>\n",
       "      <th>open</th>\n",
       "      <th>high</th>\n",
       "      <th>low</th>\n",
       "      <th>close</th>\n",
       "      <th>volume</th>\n",
       "    </tr>\n",
       "  </thead>\n",
       "  <tbody>\n",
       "    <tr>\n",
       "      <th>0</th>\n",
       "      <td>13-11-2019 09:00:00</td>\n",
       "      <td>71.8075</td>\n",
       "      <td>71.8450</td>\n",
       "      <td>71.7775</td>\n",
       "      <td>71.7925</td>\n",
       "      <td>219512</td>\n",
       "    </tr>\n",
       "    <tr>\n",
       "      <th>1</th>\n",
       "      <td>13-11-2019 09:15:00</td>\n",
       "      <td>71.7925</td>\n",
       "      <td>71.8000</td>\n",
       "      <td>71.7800</td>\n",
       "      <td>71.7925</td>\n",
       "      <td>59252</td>\n",
       "    </tr>\n",
       "    <tr>\n",
       "      <th>2</th>\n",
       "      <td>13-11-2019 09:30:00</td>\n",
       "      <td>71.7925</td>\n",
       "      <td>71.8125</td>\n",
       "      <td>71.7600</td>\n",
       "      <td>71.7625</td>\n",
       "      <td>57187</td>\n",
       "    </tr>\n",
       "    <tr>\n",
       "      <th>3</th>\n",
       "      <td>13-11-2019 09:45:00</td>\n",
       "      <td>71.7600</td>\n",
       "      <td>71.7650</td>\n",
       "      <td>71.7350</td>\n",
       "      <td>71.7425</td>\n",
       "      <td>43048</td>\n",
       "    </tr>\n",
       "    <tr>\n",
       "      <th>4</th>\n",
       "      <td>13-11-2019 10:00:00</td>\n",
       "      <td>71.7425</td>\n",
       "      <td>71.7800</td>\n",
       "      <td>71.7425</td>\n",
       "      <td>71.7775</td>\n",
       "      <td>45863</td>\n",
       "    </tr>\n",
       "    <tr>\n",
       "      <th>5</th>\n",
       "      <td>13-11-2019 10:15:00</td>\n",
       "      <td>71.7750</td>\n",
       "      <td>71.8225</td>\n",
       "      <td>71.7700</td>\n",
       "      <td>71.8150</td>\n",
       "      <td>42460</td>\n",
       "    </tr>\n",
       "    <tr>\n",
       "      <th>6</th>\n",
       "      <td>13-11-2019 10:30:00</td>\n",
       "      <td>71.8150</td>\n",
       "      <td>71.8300</td>\n",
       "      <td>71.7775</td>\n",
       "      <td>71.7800</td>\n",
       "      <td>62403</td>\n",
       "    </tr>\n",
       "    <tr>\n",
       "      <th>7</th>\n",
       "      <td>13-11-2019 10:45:00</td>\n",
       "      <td>71.7750</td>\n",
       "      <td>71.7875</td>\n",
       "      <td>71.7475</td>\n",
       "      <td>71.7525</td>\n",
       "      <td>34090</td>\n",
       "    </tr>\n",
       "    <tr>\n",
       "      <th>8</th>\n",
       "      <td>13-11-2019 11:00:00</td>\n",
       "      <td>71.7525</td>\n",
       "      <td>71.7825</td>\n",
       "      <td>71.7475</td>\n",
       "      <td>71.7625</td>\n",
       "      <td>39320</td>\n",
       "    </tr>\n",
       "    <tr>\n",
       "      <th>9</th>\n",
       "      <td>13-11-2019 11:15:00</td>\n",
       "      <td>71.7625</td>\n",
       "      <td>71.7925</td>\n",
       "      <td>71.7600</td>\n",
       "      <td>71.7875</td>\n",
       "      <td>20190</td>\n",
       "    </tr>\n",
       "  </tbody>\n",
       "</table>\n",
       "</div>"
      ],
      "text/plain": [
       "             timestamp     open     high      low    close  volume\n",
       "0  13-11-2019 09:00:00  71.8075  71.8450  71.7775  71.7925  219512\n",
       "1  13-11-2019 09:15:00  71.7925  71.8000  71.7800  71.7925   59252\n",
       "2  13-11-2019 09:30:00  71.7925  71.8125  71.7600  71.7625   57187\n",
       "3  13-11-2019 09:45:00  71.7600  71.7650  71.7350  71.7425   43048\n",
       "4  13-11-2019 10:00:00  71.7425  71.7800  71.7425  71.7775   45863\n",
       "5  13-11-2019 10:15:00  71.7750  71.8225  71.7700  71.8150   42460\n",
       "6  13-11-2019 10:30:00  71.8150  71.8300  71.7775  71.7800   62403\n",
       "7  13-11-2019 10:45:00  71.7750  71.7875  71.7475  71.7525   34090\n",
       "8  13-11-2019 11:00:00  71.7525  71.7825  71.7475  71.7625   39320\n",
       "9  13-11-2019 11:15:00  71.7625  71.7925  71.7600  71.7875   20190"
      ]
     },
     "execution_count": 48,
     "metadata": {},
     "output_type": "execute_result"
    }
   ],
   "source": [
    "# Apply a function on a particular column --> display the datetime column in a different format\n",
    "df['timestamp'] = df['timestamp'].apply(lambda x: x.strftime(\"%d-%m-%Y %H:%M:%S\"))\n",
    "df"
   ]
  },
  {
   "cell_type": "code",
   "execution_count": 49,
   "metadata": {},
   "outputs": [
    {
     "data": {
      "text/html": [
       "<div>\n",
       "<style scoped>\n",
       "    .dataframe tbody tr th:only-of-type {\n",
       "        vertical-align: middle;\n",
       "    }\n",
       "\n",
       "    .dataframe tbody tr th {\n",
       "        vertical-align: top;\n",
       "    }\n",
       "\n",
       "    .dataframe thead th {\n",
       "        text-align: right;\n",
       "    }\n",
       "</style>\n",
       "<table border=\"1\" class=\"dataframe\">\n",
       "  <thead>\n",
       "    <tr style=\"text-align: right;\">\n",
       "      <th></th>\n",
       "      <th>timestamp</th>\n",
       "      <th>open</th>\n",
       "      <th>high</th>\n",
       "      <th>low</th>\n",
       "      <th>close</th>\n",
       "      <th>volume</th>\n",
       "    </tr>\n",
       "  </thead>\n",
       "  <tbody>\n",
       "    <tr>\n",
       "      <th>3</th>\n",
       "      <td>13-11-2019 09:45:00</td>\n",
       "      <td>71.7600</td>\n",
       "      <td>71.7650</td>\n",
       "      <td>71.7350</td>\n",
       "      <td>71.7425</td>\n",
       "      <td>43048</td>\n",
       "    </tr>\n",
       "    <tr>\n",
       "      <th>7</th>\n",
       "      <td>13-11-2019 10:45:00</td>\n",
       "      <td>71.7750</td>\n",
       "      <td>71.7875</td>\n",
       "      <td>71.7475</td>\n",
       "      <td>71.7525</td>\n",
       "      <td>34090</td>\n",
       "    </tr>\n",
       "    <tr>\n",
       "      <th>2</th>\n",
       "      <td>13-11-2019 09:30:00</td>\n",
       "      <td>71.7925</td>\n",
       "      <td>71.8125</td>\n",
       "      <td>71.7600</td>\n",
       "      <td>71.7625</td>\n",
       "      <td>57187</td>\n",
       "    </tr>\n",
       "    <tr>\n",
       "      <th>8</th>\n",
       "      <td>13-11-2019 11:00:00</td>\n",
       "      <td>71.7525</td>\n",
       "      <td>71.7825</td>\n",
       "      <td>71.7475</td>\n",
       "      <td>71.7625</td>\n",
       "      <td>39320</td>\n",
       "    </tr>\n",
       "    <tr>\n",
       "      <th>4</th>\n",
       "      <td>13-11-2019 10:00:00</td>\n",
       "      <td>71.7425</td>\n",
       "      <td>71.7800</td>\n",
       "      <td>71.7425</td>\n",
       "      <td>71.7775</td>\n",
       "      <td>45863</td>\n",
       "    </tr>\n",
       "    <tr>\n",
       "      <th>6</th>\n",
       "      <td>13-11-2019 10:30:00</td>\n",
       "      <td>71.8150</td>\n",
       "      <td>71.8300</td>\n",
       "      <td>71.7775</td>\n",
       "      <td>71.7800</td>\n",
       "      <td>62403</td>\n",
       "    </tr>\n",
       "    <tr>\n",
       "      <th>9</th>\n",
       "      <td>13-11-2019 11:15:00</td>\n",
       "      <td>71.7625</td>\n",
       "      <td>71.7925</td>\n",
       "      <td>71.7600</td>\n",
       "      <td>71.7875</td>\n",
       "      <td>20190</td>\n",
       "    </tr>\n",
       "    <tr>\n",
       "      <th>0</th>\n",
       "      <td>13-11-2019 09:00:00</td>\n",
       "      <td>71.8075</td>\n",
       "      <td>71.8450</td>\n",
       "      <td>71.7775</td>\n",
       "      <td>71.7925</td>\n",
       "      <td>219512</td>\n",
       "    </tr>\n",
       "    <tr>\n",
       "      <th>1</th>\n",
       "      <td>13-11-2019 09:15:00</td>\n",
       "      <td>71.7925</td>\n",
       "      <td>71.8000</td>\n",
       "      <td>71.7800</td>\n",
       "      <td>71.7925</td>\n",
       "      <td>59252</td>\n",
       "    </tr>\n",
       "    <tr>\n",
       "      <th>5</th>\n",
       "      <td>13-11-2019 10:15:00</td>\n",
       "      <td>71.7750</td>\n",
       "      <td>71.8225</td>\n",
       "      <td>71.7700</td>\n",
       "      <td>71.8150</td>\n",
       "      <td>42460</td>\n",
       "    </tr>\n",
       "  </tbody>\n",
       "</table>\n",
       "</div>"
      ],
      "text/plain": [
       "             timestamp     open     high      low    close  volume\n",
       "3  13-11-2019 09:45:00  71.7600  71.7650  71.7350  71.7425   43048\n",
       "7  13-11-2019 10:45:00  71.7750  71.7875  71.7475  71.7525   34090\n",
       "2  13-11-2019 09:30:00  71.7925  71.8125  71.7600  71.7625   57187\n",
       "8  13-11-2019 11:00:00  71.7525  71.7825  71.7475  71.7625   39320\n",
       "4  13-11-2019 10:00:00  71.7425  71.7800  71.7425  71.7775   45863\n",
       "6  13-11-2019 10:30:00  71.8150  71.8300  71.7775  71.7800   62403\n",
       "9  13-11-2019 11:15:00  71.7625  71.7925  71.7600  71.7875   20190\n",
       "0  13-11-2019 09:00:00  71.8075  71.8450  71.7775  71.7925  219512\n",
       "1  13-11-2019 09:15:00  71.7925  71.8000  71.7800  71.7925   59252\n",
       "5  13-11-2019 10:15:00  71.7750  71.8225  71.7700  71.8150   42460"
      ]
     },
     "execution_count": 49,
     "metadata": {},
     "output_type": "execute_result"
    }
   ],
   "source": [
    "# Sort by column name in ascending order\n",
    "df.sort_values(by='close', ascending=True)    # sort by column 'close' in ascending order"
   ]
  },
  {
   "cell_type": "code",
   "execution_count": 50,
   "metadata": {},
   "outputs": [
    {
     "data": {
      "text/html": [
       "<div>\n",
       "<style scoped>\n",
       "    .dataframe tbody tr th:only-of-type {\n",
       "        vertical-align: middle;\n",
       "    }\n",
       "\n",
       "    .dataframe tbody tr th {\n",
       "        vertical-align: top;\n",
       "    }\n",
       "\n",
       "    .dataframe thead th {\n",
       "        text-align: right;\n",
       "    }\n",
       "</style>\n",
       "<table border=\"1\" class=\"dataframe\">\n",
       "  <thead>\n",
       "    <tr style=\"text-align: right;\">\n",
       "      <th></th>\n",
       "      <th>timestamp</th>\n",
       "      <th>open</th>\n",
       "      <th>high</th>\n",
       "      <th>low</th>\n",
       "      <th>close</th>\n",
       "      <th>volume</th>\n",
       "    </tr>\n",
       "  </thead>\n",
       "  <tbody>\n",
       "    <tr>\n",
       "      <th>4</th>\n",
       "      <td>13-11-2019 10:00:00</td>\n",
       "      <td>71.7425</td>\n",
       "      <td>71.7800</td>\n",
       "      <td>71.7425</td>\n",
       "      <td>71.7775</td>\n",
       "      <td>45863</td>\n",
       "    </tr>\n",
       "    <tr>\n",
       "      <th>8</th>\n",
       "      <td>13-11-2019 11:00:00</td>\n",
       "      <td>71.7525</td>\n",
       "      <td>71.7825</td>\n",
       "      <td>71.7475</td>\n",
       "      <td>71.7625</td>\n",
       "      <td>39320</td>\n",
       "    </tr>\n",
       "    <tr>\n",
       "      <th>3</th>\n",
       "      <td>13-11-2019 09:45:00</td>\n",
       "      <td>71.7600</td>\n",
       "      <td>71.7650</td>\n",
       "      <td>71.7350</td>\n",
       "      <td>71.7425</td>\n",
       "      <td>43048</td>\n",
       "    </tr>\n",
       "    <tr>\n",
       "      <th>9</th>\n",
       "      <td>13-11-2019 11:15:00</td>\n",
       "      <td>71.7625</td>\n",
       "      <td>71.7925</td>\n",
       "      <td>71.7600</td>\n",
       "      <td>71.7875</td>\n",
       "      <td>20190</td>\n",
       "    </tr>\n",
       "    <tr>\n",
       "      <th>5</th>\n",
       "      <td>13-11-2019 10:15:00</td>\n",
       "      <td>71.7750</td>\n",
       "      <td>71.8225</td>\n",
       "      <td>71.7700</td>\n",
       "      <td>71.8150</td>\n",
       "      <td>42460</td>\n",
       "    </tr>\n",
       "    <tr>\n",
       "      <th>7</th>\n",
       "      <td>13-11-2019 10:45:00</td>\n",
       "      <td>71.7750</td>\n",
       "      <td>71.7875</td>\n",
       "      <td>71.7475</td>\n",
       "      <td>71.7525</td>\n",
       "      <td>34090</td>\n",
       "    </tr>\n",
       "    <tr>\n",
       "      <th>1</th>\n",
       "      <td>13-11-2019 09:15:00</td>\n",
       "      <td>71.7925</td>\n",
       "      <td>71.8000</td>\n",
       "      <td>71.7800</td>\n",
       "      <td>71.7925</td>\n",
       "      <td>59252</td>\n",
       "    </tr>\n",
       "    <tr>\n",
       "      <th>2</th>\n",
       "      <td>13-11-2019 09:30:00</td>\n",
       "      <td>71.7925</td>\n",
       "      <td>71.8125</td>\n",
       "      <td>71.7600</td>\n",
       "      <td>71.7625</td>\n",
       "      <td>57187</td>\n",
       "    </tr>\n",
       "    <tr>\n",
       "      <th>0</th>\n",
       "      <td>13-11-2019 09:00:00</td>\n",
       "      <td>71.8075</td>\n",
       "      <td>71.8450</td>\n",
       "      <td>71.7775</td>\n",
       "      <td>71.7925</td>\n",
       "      <td>219512</td>\n",
       "    </tr>\n",
       "    <tr>\n",
       "      <th>6</th>\n",
       "      <td>13-11-2019 10:30:00</td>\n",
       "      <td>71.8150</td>\n",
       "      <td>71.8300</td>\n",
       "      <td>71.7775</td>\n",
       "      <td>71.7800</td>\n",
       "      <td>62403</td>\n",
       "    </tr>\n",
       "  </tbody>\n",
       "</table>\n",
       "</div>"
      ],
      "text/plain": [
       "             timestamp     open     high      low    close  volume\n",
       "4  13-11-2019 10:00:00  71.7425  71.7800  71.7425  71.7775   45863\n",
       "8  13-11-2019 11:00:00  71.7525  71.7825  71.7475  71.7625   39320\n",
       "3  13-11-2019 09:45:00  71.7600  71.7650  71.7350  71.7425   43048\n",
       "9  13-11-2019 11:15:00  71.7625  71.7925  71.7600  71.7875   20190\n",
       "5  13-11-2019 10:15:00  71.7750  71.8225  71.7700  71.8150   42460\n",
       "7  13-11-2019 10:45:00  71.7750  71.7875  71.7475  71.7525   34090\n",
       "1  13-11-2019 09:15:00  71.7925  71.8000  71.7800  71.7925   59252\n",
       "2  13-11-2019 09:30:00  71.7925  71.8125  71.7600  71.7625   57187\n",
       "0  13-11-2019 09:00:00  71.8075  71.8450  71.7775  71.7925  219512\n",
       "6  13-11-2019 10:30:00  71.8150  71.8300  71.7775  71.7800   62403"
      ]
     },
     "execution_count": 50,
     "metadata": {},
     "output_type": "execute_result"
    }
   ],
   "source": [
    "# Sort by column name in descending order\n",
    "df.sort_values(by='open', ascending=True)    # sort by column 'open' in descending order"
   ]
  },
  {
   "cell_type": "code",
   "execution_count": 51,
   "metadata": {},
   "outputs": [
    {
     "name": "stdout",
     "output_type": "stream",
     "text": [
      "Index: 0 | Average: 71.805625\n",
      "Index: 1 | Average: 71.79124999999999\n",
      "Index: 2 | Average: 71.781875\n",
      "Index: 3 | Average: 71.750625\n",
      "Index: 4 | Average: 71.760625\n",
      "Index: 5 | Average: 71.795625\n",
      "Index: 6 | Average: 71.800625\n",
      "Index: 7 | Average: 71.765625\n",
      "Index: 8 | Average: 71.76124999999999\n",
      "Index: 9 | Average: 71.775625\n"
     ]
    }
   ],
   "source": [
    "# Iterate row-wise over all entries of the dataframe\n",
    "# Example: Get average of open, high, low, close\n",
    "for _, row in df.iterrows():\n",
    "    print(f\"Index: {_} | Average: {(row['open'] + row['close'] + row['high'] + row['low'])/4}\")"
   ]
  },
  {
   "cell_type": "code",
   "execution_count": 52,
   "metadata": {},
   "outputs": [
    {
     "name": "stdout",
     "output_type": "stream",
     "text": [
      "13-11-2019 09:00:00\n",
      "71.8075\n",
      "71.845\n",
      "71.7775\n",
      "71.7925\n",
      "219512\n"
     ]
    }
   ],
   "source": [
    "# Iterate row-wise over all entries of the single column\n",
    "# Example: Get average of open, high, low, close\n",
    "for close in df.iloc[0]:\n",
    "    print(close)"
   ]
  },
  {
   "cell_type": "code",
   "execution_count": 53,
   "metadata": {},
   "outputs": [
    {
     "data": {
      "text/html": [
       "<div>\n",
       "<style scoped>\n",
       "    .dataframe tbody tr th:only-of-type {\n",
       "        vertical-align: middle;\n",
       "    }\n",
       "\n",
       "    .dataframe tbody tr th {\n",
       "        vertical-align: top;\n",
       "    }\n",
       "\n",
       "    .dataframe thead th {\n",
       "        text-align: right;\n",
       "    }\n",
       "</style>\n",
       "<table border=\"1\" class=\"dataframe\">\n",
       "  <thead>\n",
       "    <tr style=\"text-align: right;\">\n",
       "      <th></th>\n",
       "      <th>close</th>\n",
       "      <th>high</th>\n",
       "      <th>low</th>\n",
       "      <th>open</th>\n",
       "      <th>timestamp</th>\n",
       "      <th>volume</th>\n",
       "    </tr>\n",
       "  </thead>\n",
       "  <tbody>\n",
       "    <tr>\n",
       "      <th>0</th>\n",
       "      <td>71.7925</td>\n",
       "      <td>71.8075</td>\n",
       "      <td>71.7700</td>\n",
       "      <td>71.7875</td>\n",
       "      <td>2019-11-13 11:30:00</td>\n",
       "      <td>18655</td>\n",
       "    </tr>\n",
       "    <tr>\n",
       "      <th>1</th>\n",
       "      <td>71.7625</td>\n",
       "      <td>71.8050</td>\n",
       "      <td>71.7625</td>\n",
       "      <td>71.7925</td>\n",
       "      <td>2019-11-13 11:45:00</td>\n",
       "      <td>25648</td>\n",
       "    </tr>\n",
       "    <tr>\n",
       "      <th>2</th>\n",
       "      <td>71.7850</td>\n",
       "      <td>71.8050</td>\n",
       "      <td>71.7500</td>\n",
       "      <td>71.7625</td>\n",
       "      <td>2019-11-13 12:00:00</td>\n",
       "      <td>37300</td>\n",
       "    </tr>\n",
       "    <tr>\n",
       "      <th>3</th>\n",
       "      <td>71.7775</td>\n",
       "      <td>71.7925</td>\n",
       "      <td>71.7575</td>\n",
       "      <td>71.7850</td>\n",
       "      <td>2019-11-13 12:15:00</td>\n",
       "      <td>15431</td>\n",
       "    </tr>\n",
       "    <tr>\n",
       "      <th>4</th>\n",
       "      <td>71.7900</td>\n",
       "      <td>71.7950</td>\n",
       "      <td>71.7725</td>\n",
       "      <td>71.7775</td>\n",
       "      <td>2019-11-13 12:30:00</td>\n",
       "      <td>5178</td>\n",
       "    </tr>\n",
       "  </tbody>\n",
       "</table>\n",
       "</div>"
      ],
      "text/plain": [
       "     close     high      low     open           timestamp  volume\n",
       "0  71.7925  71.8075  71.7700  71.7875 2019-11-13 11:30:00   18655\n",
       "1  71.7625  71.8050  71.7625  71.7925 2019-11-13 11:45:00   25648\n",
       "2  71.7850  71.8050  71.7500  71.7625 2019-11-13 12:00:00   37300\n",
       "3  71.7775  71.7925  71.7575  71.7850 2019-11-13 12:15:00   15431\n",
       "4  71.7900  71.7950  71.7725  71.7775 2019-11-13 12:30:00    5178"
      ]
     },
     "execution_count": 53,
     "metadata": {},
     "output_type": "execute_result"
    }
   ],
   "source": [
    "# Concatenate 2 tables\n",
    "\n",
    "df_new = pandas.DataFrame([{'timestamp': datetime.datetime(2019, 11, 13, 11, 30),\n",
    "  'open': 71.7875,\n",
    "  'high': 71.8075,\n",
    "  'low': 71.77,\n",
    "  'close': 71.7925,\n",
    "  'volume': 18655},\n",
    " {'timestamp': datetime.datetime(2019, 11, 13, 11, 45),\n",
    "  'open': 71.7925,\n",
    "  'high': 71.805,\n",
    "  'low': 71.7625,\n",
    "  'close': 71.7625,\n",
    "  'volume': 25648},\n",
    " {'timestamp': datetime.datetime(2019, 11, 13, 12, 0),\n",
    "  'open': 71.7625,\n",
    "  'high': 71.805,\n",
    "  'low': 71.75,\n",
    "  'close': 71.785,\n",
    "  'volume': 37300},\n",
    " {'timestamp': datetime.datetime(2019, 11, 13, 12, 15),\n",
    "  'open': 71.785,\n",
    "  'high': 71.7925,\n",
    "  'low': 71.7575,\n",
    "  'close': 71.7775,\n",
    "  'volume': 15431},\n",
    " {'timestamp': datetime.datetime(2019, 11, 13, 12, 30),\n",
    "  'open': 71.7775,\n",
    "  'high': 71.795,\n",
    "  'low': 71.7725,\n",
    "  'close': 71.79,\n",
    "  'volume': 5178}])\n",
    "df_new"
   ]
  },
  {
   "cell_type": "code",
   "execution_count": 54,
   "metadata": {},
   "outputs": [
    {
     "data": {
      "text/html": [
       "<div>\n",
       "<style scoped>\n",
       "    .dataframe tbody tr th:only-of-type {\n",
       "        vertical-align: middle;\n",
       "    }\n",
       "\n",
       "    .dataframe tbody tr th {\n",
       "        vertical-align: top;\n",
       "    }\n",
       "\n",
       "    .dataframe thead th {\n",
       "        text-align: right;\n",
       "    }\n",
       "</style>\n",
       "<table border=\"1\" class=\"dataframe\">\n",
       "  <thead>\n",
       "    <tr style=\"text-align: right;\">\n",
       "      <th></th>\n",
       "      <th>timestamp</th>\n",
       "      <th>open</th>\n",
       "      <th>high</th>\n",
       "      <th>low</th>\n",
       "      <th>close</th>\n",
       "      <th>volume</th>\n",
       "    </tr>\n",
       "  </thead>\n",
       "  <tbody>\n",
       "    <tr>\n",
       "      <th>0</th>\n",
       "      <td>13-11-2019 09:00:00</td>\n",
       "      <td>71.8075</td>\n",
       "      <td>71.8450</td>\n",
       "      <td>71.7775</td>\n",
       "      <td>71.7925</td>\n",
       "      <td>219512</td>\n",
       "    </tr>\n",
       "    <tr>\n",
       "      <th>1</th>\n",
       "      <td>13-11-2019 09:15:00</td>\n",
       "      <td>71.7925</td>\n",
       "      <td>71.8000</td>\n",
       "      <td>71.7800</td>\n",
       "      <td>71.7925</td>\n",
       "      <td>59252</td>\n",
       "    </tr>\n",
       "    <tr>\n",
       "      <th>2</th>\n",
       "      <td>13-11-2019 09:30:00</td>\n",
       "      <td>71.7925</td>\n",
       "      <td>71.8125</td>\n",
       "      <td>71.7600</td>\n",
       "      <td>71.7625</td>\n",
       "      <td>57187</td>\n",
       "    </tr>\n",
       "    <tr>\n",
       "      <th>3</th>\n",
       "      <td>13-11-2019 09:45:00</td>\n",
       "      <td>71.7600</td>\n",
       "      <td>71.7650</td>\n",
       "      <td>71.7350</td>\n",
       "      <td>71.7425</td>\n",
       "      <td>43048</td>\n",
       "    </tr>\n",
       "    <tr>\n",
       "      <th>4</th>\n",
       "      <td>13-11-2019 10:00:00</td>\n",
       "      <td>71.7425</td>\n",
       "      <td>71.7800</td>\n",
       "      <td>71.7425</td>\n",
       "      <td>71.7775</td>\n",
       "      <td>45863</td>\n",
       "    </tr>\n",
       "    <tr>\n",
       "      <th>5</th>\n",
       "      <td>13-11-2019 10:15:00</td>\n",
       "      <td>71.7750</td>\n",
       "      <td>71.8225</td>\n",
       "      <td>71.7700</td>\n",
       "      <td>71.8150</td>\n",
       "      <td>42460</td>\n",
       "    </tr>\n",
       "    <tr>\n",
       "      <th>6</th>\n",
       "      <td>13-11-2019 10:30:00</td>\n",
       "      <td>71.8150</td>\n",
       "      <td>71.8300</td>\n",
       "      <td>71.7775</td>\n",
       "      <td>71.7800</td>\n",
       "      <td>62403</td>\n",
       "    </tr>\n",
       "    <tr>\n",
       "      <th>7</th>\n",
       "      <td>13-11-2019 10:45:00</td>\n",
       "      <td>71.7750</td>\n",
       "      <td>71.7875</td>\n",
       "      <td>71.7475</td>\n",
       "      <td>71.7525</td>\n",
       "      <td>34090</td>\n",
       "    </tr>\n",
       "    <tr>\n",
       "      <th>8</th>\n",
       "      <td>13-11-2019 11:00:00</td>\n",
       "      <td>71.7525</td>\n",
       "      <td>71.7825</td>\n",
       "      <td>71.7475</td>\n",
       "      <td>71.7625</td>\n",
       "      <td>39320</td>\n",
       "    </tr>\n",
       "    <tr>\n",
       "      <th>9</th>\n",
       "      <td>13-11-2019 11:15:00</td>\n",
       "      <td>71.7625</td>\n",
       "      <td>71.7925</td>\n",
       "      <td>71.7600</td>\n",
       "      <td>71.7875</td>\n",
       "      <td>20190</td>\n",
       "    </tr>\n",
       "    <tr>\n",
       "      <th>10</th>\n",
       "      <td>2019-11-13 11:30:00</td>\n",
       "      <td>71.7875</td>\n",
       "      <td>71.8075</td>\n",
       "      <td>71.7700</td>\n",
       "      <td>71.7925</td>\n",
       "      <td>18655</td>\n",
       "    </tr>\n",
       "    <tr>\n",
       "      <th>11</th>\n",
       "      <td>2019-11-13 11:45:00</td>\n",
       "      <td>71.7925</td>\n",
       "      <td>71.8050</td>\n",
       "      <td>71.7625</td>\n",
       "      <td>71.7625</td>\n",
       "      <td>25648</td>\n",
       "    </tr>\n",
       "    <tr>\n",
       "      <th>12</th>\n",
       "      <td>2019-11-13 12:00:00</td>\n",
       "      <td>71.7625</td>\n",
       "      <td>71.8050</td>\n",
       "      <td>71.7500</td>\n",
       "      <td>71.7850</td>\n",
       "      <td>37300</td>\n",
       "    </tr>\n",
       "    <tr>\n",
       "      <th>13</th>\n",
       "      <td>2019-11-13 12:15:00</td>\n",
       "      <td>71.7850</td>\n",
       "      <td>71.7925</td>\n",
       "      <td>71.7575</td>\n",
       "      <td>71.7775</td>\n",
       "      <td>15431</td>\n",
       "    </tr>\n",
       "    <tr>\n",
       "      <th>14</th>\n",
       "      <td>2019-11-13 12:30:00</td>\n",
       "      <td>71.7775</td>\n",
       "      <td>71.7950</td>\n",
       "      <td>71.7725</td>\n",
       "      <td>71.7900</td>\n",
       "      <td>5178</td>\n",
       "    </tr>\n",
       "  </tbody>\n",
       "</table>\n",
       "</div>"
      ],
      "text/plain": [
       "              timestamp     open     high      low    close  volume\n",
       "0   13-11-2019 09:00:00  71.8075  71.8450  71.7775  71.7925  219512\n",
       "1   13-11-2019 09:15:00  71.7925  71.8000  71.7800  71.7925   59252\n",
       "2   13-11-2019 09:30:00  71.7925  71.8125  71.7600  71.7625   57187\n",
       "3   13-11-2019 09:45:00  71.7600  71.7650  71.7350  71.7425   43048\n",
       "4   13-11-2019 10:00:00  71.7425  71.7800  71.7425  71.7775   45863\n",
       "5   13-11-2019 10:15:00  71.7750  71.8225  71.7700  71.8150   42460\n",
       "6   13-11-2019 10:30:00  71.8150  71.8300  71.7775  71.7800   62403\n",
       "7   13-11-2019 10:45:00  71.7750  71.7875  71.7475  71.7525   34090\n",
       "8   13-11-2019 11:00:00  71.7525  71.7825  71.7475  71.7625   39320\n",
       "9   13-11-2019 11:15:00  71.7625  71.7925  71.7600  71.7875   20190\n",
       "10  2019-11-13 11:30:00  71.7875  71.8075  71.7700  71.7925   18655\n",
       "11  2019-11-13 11:45:00  71.7925  71.8050  71.7625  71.7625   25648\n",
       "12  2019-11-13 12:00:00  71.7625  71.8050  71.7500  71.7850   37300\n",
       "13  2019-11-13 12:15:00  71.7850  71.7925  71.7575  71.7775   15431\n",
       "14  2019-11-13 12:30:00  71.7775  71.7950  71.7725  71.7900    5178"
      ]
     },
     "execution_count": 54,
     "metadata": {},
     "output_type": "execute_result"
    }
   ],
   "source": [
    "# Concat 2 dataframes with same columns, vertically\n",
    "pandas.concat([df, df_new], sort=False).reset_index(drop=True)"
   ]
  },
  {
   "cell_type": "code",
   "execution_count": 55,
   "metadata": {},
   "outputs": [
    {
     "data": {
      "text/html": [
       "<div>\n",
       "<style scoped>\n",
       "    .dataframe tbody tr th:only-of-type {\n",
       "        vertical-align: middle;\n",
       "    }\n",
       "\n",
       "    .dataframe tbody tr th {\n",
       "        vertical-align: top;\n",
       "    }\n",
       "\n",
       "    .dataframe thead th {\n",
       "        text-align: right;\n",
       "    }\n",
       "</style>\n",
       "<table border=\"1\" class=\"dataframe\">\n",
       "  <thead>\n",
       "    <tr style=\"text-align: right;\">\n",
       "      <th></th>\n",
       "      <th>open</th>\n",
       "    </tr>\n",
       "  </thead>\n",
       "  <tbody>\n",
       "    <tr>\n",
       "      <th>0</th>\n",
       "      <td>33</td>\n",
       "    </tr>\n",
       "    <tr>\n",
       "      <th>1</th>\n",
       "      <td>35</td>\n",
       "    </tr>\n",
       "    <tr>\n",
       "      <th>2</th>\n",
       "      <td>1</td>\n",
       "    </tr>\n",
       "    <tr>\n",
       "      <th>3</th>\n",
       "      <td>85</td>\n",
       "    </tr>\n",
       "    <tr>\n",
       "      <th>4</th>\n",
       "      <td>97</td>\n",
       "    </tr>\n",
       "    <tr>\n",
       "      <th>5</th>\n",
       "      <td>40</td>\n",
       "    </tr>\n",
       "    <tr>\n",
       "      <th>6</th>\n",
       "      <td>64</td>\n",
       "    </tr>\n",
       "    <tr>\n",
       "      <th>7</th>\n",
       "      <td>20</td>\n",
       "    </tr>\n",
       "    <tr>\n",
       "      <th>8</th>\n",
       "      <td>25</td>\n",
       "    </tr>\n",
       "    <tr>\n",
       "      <th>9</th>\n",
       "      <td>77</td>\n",
       "    </tr>\n",
       "  </tbody>\n",
       "</table>\n",
       "</div>"
      ],
      "text/plain": [
       "   open\n",
       "0    33\n",
       "1    35\n",
       "2     1\n",
       "3    85\n",
       "4    97\n",
       "5    40\n",
       "6    64\n",
       "7    20\n",
       "8    25\n",
       "9    77"
      ]
     },
     "execution_count": 55,
     "metadata": {},
     "output_type": "execute_result"
    }
   ],
   "source": [
    "# Concatenate horizontally\n",
    "import random \n",
    "\n",
    "pd1 = pandas.DataFrame([random.randint(1,100) for i in range(10)], columns=['open'])\n",
    "pd2 = pandas.DataFrame([random.randint(1,100) for i in range(10)], columns=['close'])\n",
    "\n",
    "pd1"
   ]
  },
  {
   "cell_type": "code",
   "execution_count": 56,
   "metadata": {},
   "outputs": [
    {
     "data": {
      "text/html": [
       "<div>\n",
       "<style scoped>\n",
       "    .dataframe tbody tr th:only-of-type {\n",
       "        vertical-align: middle;\n",
       "    }\n",
       "\n",
       "    .dataframe tbody tr th {\n",
       "        vertical-align: top;\n",
       "    }\n",
       "\n",
       "    .dataframe thead th {\n",
       "        text-align: right;\n",
       "    }\n",
       "</style>\n",
       "<table border=\"1\" class=\"dataframe\">\n",
       "  <thead>\n",
       "    <tr style=\"text-align: right;\">\n",
       "      <th></th>\n",
       "      <th>close</th>\n",
       "    </tr>\n",
       "  </thead>\n",
       "  <tbody>\n",
       "    <tr>\n",
       "      <th>0</th>\n",
       "      <td>70</td>\n",
       "    </tr>\n",
       "    <tr>\n",
       "      <th>1</th>\n",
       "      <td>32</td>\n",
       "    </tr>\n",
       "    <tr>\n",
       "      <th>2</th>\n",
       "      <td>28</td>\n",
       "    </tr>\n",
       "    <tr>\n",
       "      <th>3</th>\n",
       "      <td>28</td>\n",
       "    </tr>\n",
       "    <tr>\n",
       "      <th>4</th>\n",
       "      <td>50</td>\n",
       "    </tr>\n",
       "    <tr>\n",
       "      <th>5</th>\n",
       "      <td>1</td>\n",
       "    </tr>\n",
       "    <tr>\n",
       "      <th>6</th>\n",
       "      <td>80</td>\n",
       "    </tr>\n",
       "    <tr>\n",
       "      <th>7</th>\n",
       "      <td>7</td>\n",
       "    </tr>\n",
       "    <tr>\n",
       "      <th>8</th>\n",
       "      <td>53</td>\n",
       "    </tr>\n",
       "    <tr>\n",
       "      <th>9</th>\n",
       "      <td>28</td>\n",
       "    </tr>\n",
       "  </tbody>\n",
       "</table>\n",
       "</div>"
      ],
      "text/plain": [
       "   close\n",
       "0     70\n",
       "1     32\n",
       "2     28\n",
       "3     28\n",
       "4     50\n",
       "5      1\n",
       "6     80\n",
       "7      7\n",
       "8     53\n",
       "9     28"
      ]
     },
     "execution_count": 56,
     "metadata": {},
     "output_type": "execute_result"
    }
   ],
   "source": [
    "pd2"
   ]
  },
  {
   "cell_type": "code",
   "execution_count": 57,
   "metadata": {},
   "outputs": [
    {
     "data": {
      "text/html": [
       "<div>\n",
       "<style scoped>\n",
       "    .dataframe tbody tr th:only-of-type {\n",
       "        vertical-align: middle;\n",
       "    }\n",
       "\n",
       "    .dataframe tbody tr th {\n",
       "        vertical-align: top;\n",
       "    }\n",
       "\n",
       "    .dataframe thead th {\n",
       "        text-align: right;\n",
       "    }\n",
       "</style>\n",
       "<table border=\"1\" class=\"dataframe\">\n",
       "  <thead>\n",
       "    <tr style=\"text-align: right;\">\n",
       "      <th></th>\n",
       "      <th>open</th>\n",
       "      <th>close</th>\n",
       "    </tr>\n",
       "  </thead>\n",
       "  <tbody>\n",
       "    <tr>\n",
       "      <th>0</th>\n",
       "      <td>33</td>\n",
       "      <td>70</td>\n",
       "    </tr>\n",
       "    <tr>\n",
       "      <th>1</th>\n",
       "      <td>35</td>\n",
       "      <td>32</td>\n",
       "    </tr>\n",
       "    <tr>\n",
       "      <th>2</th>\n",
       "      <td>1</td>\n",
       "      <td>28</td>\n",
       "    </tr>\n",
       "    <tr>\n",
       "      <th>3</th>\n",
       "      <td>85</td>\n",
       "      <td>28</td>\n",
       "    </tr>\n",
       "    <tr>\n",
       "      <th>4</th>\n",
       "      <td>97</td>\n",
       "      <td>50</td>\n",
       "    </tr>\n",
       "    <tr>\n",
       "      <th>5</th>\n",
       "      <td>40</td>\n",
       "      <td>1</td>\n",
       "    </tr>\n",
       "    <tr>\n",
       "      <th>6</th>\n",
       "      <td>64</td>\n",
       "      <td>80</td>\n",
       "    </tr>\n",
       "    <tr>\n",
       "      <th>7</th>\n",
       "      <td>20</td>\n",
       "      <td>7</td>\n",
       "    </tr>\n",
       "    <tr>\n",
       "      <th>8</th>\n",
       "      <td>25</td>\n",
       "      <td>53</td>\n",
       "    </tr>\n",
       "    <tr>\n",
       "      <th>9</th>\n",
       "      <td>77</td>\n",
       "      <td>28</td>\n",
       "    </tr>\n",
       "  </tbody>\n",
       "</table>\n",
       "</div>"
      ],
      "text/plain": [
       "   open  close\n",
       "0    33     70\n",
       "1    35     32\n",
       "2     1     28\n",
       "3    85     28\n",
       "4    97     50\n",
       "5    40      1\n",
       "6    64     80\n",
       "7    20      7\n",
       "8    25     53\n",
       "9    77     28"
      ]
     },
     "execution_count": 57,
     "metadata": {},
     "output_type": "execute_result"
    }
   ],
   "source": [
    "pandas.concat([pd1, pd2], axis=1)"
   ]
  },
  {
   "cell_type": "markdown",
   "metadata": {},
   "source": [
    "------------------------------"
   ]
  },
  {
   "cell_type": "markdown",
   "metadata": {},
   "source": [
    "### Recipe 11: Conversion: Dataframe to other formats"
   ]
  },
  {
   "cell_type": "code",
   "execution_count": 58,
   "metadata": {},
   "outputs": [],
   "source": [
    "# Dataframe to csv format\n",
    "df.to_csv('dataframe.csv', index=False)"
   ]
  },
  {
   "cell_type": "code",
   "execution_count": 59,
   "metadata": {},
   "outputs": [
    {
     "data": {
      "text/plain": [
       "'{\"timestamp\":{\"0\":\"13-11-2019 09:00:00\",\"1\":\"13-11-2019 09:15:00\",\"2\":\"13-11-2019 09:30:00\",\"3\":\"13-11-2019 09:45:00\",\"4\":\"13-11-2019 10:00:00\",\"5\":\"13-11-2019 10:15:00\",\"6\":\"13-11-2019 10:30:00\",\"7\":\"13-11-2019 10:45:00\",\"8\":\"13-11-2019 11:00:00\",\"9\":\"13-11-2019 11:15:00\"},\"open\":{\"0\":71.8075,\"1\":71.7925,\"2\":71.7925,\"3\":71.76,\"4\":71.7425,\"5\":71.775,\"6\":71.815,\"7\":71.775,\"8\":71.7525,\"9\":71.7625},\"high\":{\"0\":71.845,\"1\":71.8,\"2\":71.8125,\"3\":71.765,\"4\":71.78,\"5\":71.8225,\"6\":71.83,\"7\":71.7875,\"8\":71.7825,\"9\":71.7925},\"low\":{\"0\":71.7775,\"1\":71.78,\"2\":71.76,\"3\":71.735,\"4\":71.7425,\"5\":71.77,\"6\":71.7775,\"7\":71.7475,\"8\":71.7475,\"9\":71.76},\"close\":{\"0\":71.7925,\"1\":71.7925,\"2\":71.7625,\"3\":71.7425,\"4\":71.7775,\"5\":71.815,\"6\":71.78,\"7\":71.7525,\"8\":71.7625,\"9\":71.7875},\"volume\":{\"0\":219512,\"1\":59252,\"2\":57187,\"3\":43048,\"4\":45863,\"5\":42460,\"6\":62403,\"7\":34090,\"8\":39320,\"9\":20190}}'"
      ]
     },
     "execution_count": 59,
     "metadata": {},
     "output_type": "execute_result"
    }
   ],
   "source": [
    "# Dataframe to JSON format --> Usecase: transmit data over web APIs\n",
    "df.to_json()"
   ]
  },
  {
   "cell_type": "code",
   "execution_count": 60,
   "metadata": {},
   "outputs": [],
   "source": [
    "# Dataframe to pickle format --> Usecases: Transmit data over zmq sockets, fetch & save data in 1 python session & read in another without fetching\n",
    "df.to_pickle('df.pickle')"
   ]
  },
  {
   "cell_type": "markdown",
   "metadata": {},
   "source": [
    "------------------------------"
   ]
  },
  {
   "cell_type": "markdown",
   "metadata": {},
   "source": [
    "### Recipe 12: Creation: Dataframe from other formats"
   ]
  },
  {
   "cell_type": "code",
   "execution_count": 61,
   "metadata": {},
   "outputs": [
    {
     "data": {
      "text/html": [
       "<div>\n",
       "<style scoped>\n",
       "    .dataframe tbody tr th:only-of-type {\n",
       "        vertical-align: middle;\n",
       "    }\n",
       "\n",
       "    .dataframe tbody tr th {\n",
       "        vertical-align: top;\n",
       "    }\n",
       "\n",
       "    .dataframe thead th {\n",
       "        text-align: right;\n",
       "    }\n",
       "</style>\n",
       "<table border=\"1\" class=\"dataframe\">\n",
       "  <thead>\n",
       "    <tr style=\"text-align: right;\">\n",
       "      <th></th>\n",
       "      <th>timestamp</th>\n",
       "      <th>open</th>\n",
       "      <th>high</th>\n",
       "      <th>low</th>\n",
       "      <th>close</th>\n",
       "      <th>volume</th>\n",
       "    </tr>\n",
       "  </thead>\n",
       "  <tbody>\n",
       "    <tr>\n",
       "      <th>0</th>\n",
       "      <td>13-11-2019 09:00:00</td>\n",
       "      <td>71.8075</td>\n",
       "      <td>71.8450</td>\n",
       "      <td>71.7775</td>\n",
       "      <td>71.7925</td>\n",
       "      <td>219512</td>\n",
       "    </tr>\n",
       "    <tr>\n",
       "      <th>1</th>\n",
       "      <td>13-11-2019 09:15:00</td>\n",
       "      <td>71.7925</td>\n",
       "      <td>71.8000</td>\n",
       "      <td>71.7800</td>\n",
       "      <td>71.7925</td>\n",
       "      <td>59252</td>\n",
       "    </tr>\n",
       "    <tr>\n",
       "      <th>2</th>\n",
       "      <td>13-11-2019 09:30:00</td>\n",
       "      <td>71.7925</td>\n",
       "      <td>71.8125</td>\n",
       "      <td>71.7600</td>\n",
       "      <td>71.7625</td>\n",
       "      <td>57187</td>\n",
       "    </tr>\n",
       "    <tr>\n",
       "      <th>3</th>\n",
       "      <td>13-11-2019 09:45:00</td>\n",
       "      <td>71.7600</td>\n",
       "      <td>71.7650</td>\n",
       "      <td>71.7350</td>\n",
       "      <td>71.7425</td>\n",
       "      <td>43048</td>\n",
       "    </tr>\n",
       "    <tr>\n",
       "      <th>4</th>\n",
       "      <td>13-11-2019 10:00:00</td>\n",
       "      <td>71.7425</td>\n",
       "      <td>71.7800</td>\n",
       "      <td>71.7425</td>\n",
       "      <td>71.7775</td>\n",
       "      <td>45863</td>\n",
       "    </tr>\n",
       "    <tr>\n",
       "      <th>5</th>\n",
       "      <td>13-11-2019 10:15:00</td>\n",
       "      <td>71.7750</td>\n",
       "      <td>71.8225</td>\n",
       "      <td>71.7700</td>\n",
       "      <td>71.8150</td>\n",
       "      <td>42460</td>\n",
       "    </tr>\n",
       "    <tr>\n",
       "      <th>6</th>\n",
       "      <td>13-11-2019 10:30:00</td>\n",
       "      <td>71.8150</td>\n",
       "      <td>71.8300</td>\n",
       "      <td>71.7775</td>\n",
       "      <td>71.7800</td>\n",
       "      <td>62403</td>\n",
       "    </tr>\n",
       "    <tr>\n",
       "      <th>7</th>\n",
       "      <td>13-11-2019 10:45:00</td>\n",
       "      <td>71.7750</td>\n",
       "      <td>71.7875</td>\n",
       "      <td>71.7475</td>\n",
       "      <td>71.7525</td>\n",
       "      <td>34090</td>\n",
       "    </tr>\n",
       "    <tr>\n",
       "      <th>8</th>\n",
       "      <td>13-11-2019 11:00:00</td>\n",
       "      <td>71.7525</td>\n",
       "      <td>71.7825</td>\n",
       "      <td>71.7475</td>\n",
       "      <td>71.7625</td>\n",
       "      <td>39320</td>\n",
       "    </tr>\n",
       "    <tr>\n",
       "      <th>9</th>\n",
       "      <td>13-11-2019 11:15:00</td>\n",
       "      <td>71.7625</td>\n",
       "      <td>71.7925</td>\n",
       "      <td>71.7600</td>\n",
       "      <td>71.7875</td>\n",
       "      <td>20190</td>\n",
       "    </tr>\n",
       "  </tbody>\n",
       "</table>\n",
       "</div>"
      ],
      "text/plain": [
       "             timestamp     open     high      low    close  volume\n",
       "0  13-11-2019 09:00:00  71.8075  71.8450  71.7775  71.7925  219512\n",
       "1  13-11-2019 09:15:00  71.7925  71.8000  71.7800  71.7925   59252\n",
       "2  13-11-2019 09:30:00  71.7925  71.8125  71.7600  71.7625   57187\n",
       "3  13-11-2019 09:45:00  71.7600  71.7650  71.7350  71.7425   43048\n",
       "4  13-11-2019 10:00:00  71.7425  71.7800  71.7425  71.7775   45863\n",
       "5  13-11-2019 10:15:00  71.7750  71.8225  71.7700  71.8150   42460\n",
       "6  13-11-2019 10:30:00  71.8150  71.8300  71.7775  71.7800   62403\n",
       "7  13-11-2019 10:45:00  71.7750  71.7875  71.7475  71.7525   34090\n",
       "8  13-11-2019 11:00:00  71.7525  71.7825  71.7475  71.7625   39320\n",
       "9  13-11-2019 11:15:00  71.7625  71.7925  71.7600  71.7875   20190"
      ]
     },
     "execution_count": 61,
     "metadata": {},
     "output_type": "execute_result"
    }
   ],
   "source": [
    "# Read csv file into DataFrame object\n",
    "pandas.read_csv('dataframe.csv')"
   ]
  },
  {
   "cell_type": "code",
   "execution_count": 62,
   "metadata": {},
   "outputs": [
    {
     "data": {
      "text/html": [
       "<div>\n",
       "<style scoped>\n",
       "    .dataframe tbody tr th:only-of-type {\n",
       "        vertical-align: middle;\n",
       "    }\n",
       "\n",
       "    .dataframe tbody tr th {\n",
       "        vertical-align: top;\n",
       "    }\n",
       "\n",
       "    .dataframe thead th {\n",
       "        text-align: right;\n",
       "    }\n",
       "</style>\n",
       "<table border=\"1\" class=\"dataframe\">\n",
       "  <thead>\n",
       "    <tr style=\"text-align: right;\">\n",
       "      <th></th>\n",
       "      <th>timestamp</th>\n",
       "      <th>open</th>\n",
       "      <th>high</th>\n",
       "      <th>low</th>\n",
       "      <th>close</th>\n",
       "      <th>volume</th>\n",
       "    </tr>\n",
       "  </thead>\n",
       "  <tbody>\n",
       "    <tr>\n",
       "      <th>0</th>\n",
       "      <td>2019-11-13 09:00:00</td>\n",
       "      <td>71.8075</td>\n",
       "      <td>71.8450</td>\n",
       "      <td>71.7775</td>\n",
       "      <td>71.7925</td>\n",
       "      <td>219512</td>\n",
       "    </tr>\n",
       "    <tr>\n",
       "      <th>1</th>\n",
       "      <td>2019-11-13 09:15:00</td>\n",
       "      <td>71.7925</td>\n",
       "      <td>71.8000</td>\n",
       "      <td>71.7800</td>\n",
       "      <td>71.7925</td>\n",
       "      <td>59252</td>\n",
       "    </tr>\n",
       "    <tr>\n",
       "      <th>2</th>\n",
       "      <td>2019-11-13 09:30:00</td>\n",
       "      <td>71.7925</td>\n",
       "      <td>71.8125</td>\n",
       "      <td>71.7600</td>\n",
       "      <td>71.7625</td>\n",
       "      <td>57187</td>\n",
       "    </tr>\n",
       "    <tr>\n",
       "      <th>3</th>\n",
       "      <td>2019-11-13 09:45:00</td>\n",
       "      <td>71.7600</td>\n",
       "      <td>71.7650</td>\n",
       "      <td>71.7350</td>\n",
       "      <td>71.7425</td>\n",
       "      <td>43048</td>\n",
       "    </tr>\n",
       "    <tr>\n",
       "      <th>4</th>\n",
       "      <td>2019-11-13 10:00:00</td>\n",
       "      <td>71.7425</td>\n",
       "      <td>71.7800</td>\n",
       "      <td>71.7425</td>\n",
       "      <td>71.7775</td>\n",
       "      <td>45863</td>\n",
       "    </tr>\n",
       "    <tr>\n",
       "      <th>5</th>\n",
       "      <td>2019-11-13 10:15:00</td>\n",
       "      <td>71.7750</td>\n",
       "      <td>71.8225</td>\n",
       "      <td>71.7700</td>\n",
       "      <td>71.8150</td>\n",
       "      <td>42460</td>\n",
       "    </tr>\n",
       "    <tr>\n",
       "      <th>6</th>\n",
       "      <td>2019-11-13 10:30:00</td>\n",
       "      <td>71.8150</td>\n",
       "      <td>71.8300</td>\n",
       "      <td>71.7775</td>\n",
       "      <td>71.7800</td>\n",
       "      <td>62403</td>\n",
       "    </tr>\n",
       "    <tr>\n",
       "      <th>7</th>\n",
       "      <td>2019-11-13 10:45:00</td>\n",
       "      <td>71.7750</td>\n",
       "      <td>71.7875</td>\n",
       "      <td>71.7475</td>\n",
       "      <td>71.7525</td>\n",
       "      <td>34090</td>\n",
       "    </tr>\n",
       "    <tr>\n",
       "      <th>8</th>\n",
       "      <td>2019-11-13 11:00:00</td>\n",
       "      <td>71.7525</td>\n",
       "      <td>71.7825</td>\n",
       "      <td>71.7475</td>\n",
       "      <td>71.7625</td>\n",
       "      <td>39320</td>\n",
       "    </tr>\n",
       "    <tr>\n",
       "      <th>9</th>\n",
       "      <td>2019-11-13 11:15:00</td>\n",
       "      <td>71.7625</td>\n",
       "      <td>71.7925</td>\n",
       "      <td>71.7600</td>\n",
       "      <td>71.7875</td>\n",
       "      <td>20190</td>\n",
       "    </tr>\n",
       "  </tbody>\n",
       "</table>\n",
       "</div>"
      ],
      "text/plain": [
       "            timestamp     open     high      low    close  volume\n",
       "0 2019-11-13 09:00:00  71.8075  71.8450  71.7775  71.7925  219512\n",
       "1 2019-11-13 09:15:00  71.7925  71.8000  71.7800  71.7925   59252\n",
       "2 2019-11-13 09:30:00  71.7925  71.8125  71.7600  71.7625   57187\n",
       "3 2019-11-13 09:45:00  71.7600  71.7650  71.7350  71.7425   43048\n",
       "4 2019-11-13 10:00:00  71.7425  71.7800  71.7425  71.7775   45863\n",
       "5 2019-11-13 10:15:00  71.7750  71.8225  71.7700  71.8150   42460\n",
       "6 2019-11-13 10:30:00  71.8150  71.8300  71.7775  71.7800   62403\n",
       "7 2019-11-13 10:45:00  71.7750  71.7875  71.7475  71.7525   34090\n",
       "8 2019-11-13 11:00:00  71.7525  71.7825  71.7475  71.7625   39320\n",
       "9 2019-11-13 11:15:00  71.7625  71.7925  71.7600  71.7875   20190"
      ]
     },
     "execution_count": 62,
     "metadata": {},
     "output_type": "execute_result"
    }
   ],
   "source": [
    "# Read json text into DataFrame object\n",
    "pandas.read_json('{\"timestamp\":{\"0\":\"13-11-2019 09:00:00\",\"1\":\"13-11-2019 09:15:00\",\"2\":\"13-11-2019 09:30:00\",\"3\":\"13-11-2019 09:45:00\",\"4\":\"13-11-2019 10:00:00\",\"5\":\"13-11-2019 10:15:00\",\"6\":\"13-11-2019 10:30:00\",\"7\":\"13-11-2019 10:45:00\",\"8\":\"13-11-2019 11:00:00\",\"9\":\"13-11-2019 11:15:00\"},\"open\":{\"0\":71.8075,\"1\":71.7925,\"2\":71.7925,\"3\":71.76,\"4\":71.7425,\"5\":71.775,\"6\":71.815,\"7\":71.775,\"8\":71.7525,\"9\":71.7625},\"high\":{\"0\":71.845,\"1\":71.8,\"2\":71.8125,\"3\":71.765,\"4\":71.78,\"5\":71.8225,\"6\":71.83,\"7\":71.7875,\"8\":71.7825,\"9\":71.7925},\"low\":{\"0\":71.7775,\"1\":71.78,\"2\":71.76,\"3\":71.735,\"4\":71.7425,\"5\":71.77,\"6\":71.7775,\"7\":71.7475,\"8\":71.7475,\"9\":71.76},\"close\":{\"0\":71.7925,\"1\":71.7925,\"2\":71.7625,\"3\":71.7425,\"4\":71.7775,\"5\":71.815,\"6\":71.78,\"7\":71.7525,\"8\":71.7625,\"9\":71.7875},\"volume\":{\"0\":219512,\"1\":59252,\"2\":57187,\"3\":43048,\"4\":45863,\"5\":42460,\"6\":62403,\"7\":34090,\"8\":39320,\"9\":20190}}')"
   ]
  },
  {
   "cell_type": "code",
   "execution_count": 63,
   "metadata": {},
   "outputs": [
    {
     "data": {
      "text/html": [
       "<div>\n",
       "<style scoped>\n",
       "    .dataframe tbody tr th:only-of-type {\n",
       "        vertical-align: middle;\n",
       "    }\n",
       "\n",
       "    .dataframe tbody tr th {\n",
       "        vertical-align: top;\n",
       "    }\n",
       "\n",
       "    .dataframe thead th {\n",
       "        text-align: right;\n",
       "    }\n",
       "</style>\n",
       "<table border=\"1\" class=\"dataframe\">\n",
       "  <thead>\n",
       "    <tr style=\"text-align: right;\">\n",
       "      <th></th>\n",
       "      <th>timestamp</th>\n",
       "      <th>open</th>\n",
       "      <th>high</th>\n",
       "      <th>low</th>\n",
       "      <th>close</th>\n",
       "      <th>volume</th>\n",
       "    </tr>\n",
       "  </thead>\n",
       "  <tbody>\n",
       "    <tr>\n",
       "      <th>0</th>\n",
       "      <td>13-11-2019 09:00:00</td>\n",
       "      <td>71.8075</td>\n",
       "      <td>71.8450</td>\n",
       "      <td>71.7775</td>\n",
       "      <td>71.7925</td>\n",
       "      <td>219512</td>\n",
       "    </tr>\n",
       "    <tr>\n",
       "      <th>1</th>\n",
       "      <td>13-11-2019 09:15:00</td>\n",
       "      <td>71.7925</td>\n",
       "      <td>71.8000</td>\n",
       "      <td>71.7800</td>\n",
       "      <td>71.7925</td>\n",
       "      <td>59252</td>\n",
       "    </tr>\n",
       "    <tr>\n",
       "      <th>2</th>\n",
       "      <td>13-11-2019 09:30:00</td>\n",
       "      <td>71.7925</td>\n",
       "      <td>71.8125</td>\n",
       "      <td>71.7600</td>\n",
       "      <td>71.7625</td>\n",
       "      <td>57187</td>\n",
       "    </tr>\n",
       "    <tr>\n",
       "      <th>3</th>\n",
       "      <td>13-11-2019 09:45:00</td>\n",
       "      <td>71.7600</td>\n",
       "      <td>71.7650</td>\n",
       "      <td>71.7350</td>\n",
       "      <td>71.7425</td>\n",
       "      <td>43048</td>\n",
       "    </tr>\n",
       "    <tr>\n",
       "      <th>4</th>\n",
       "      <td>13-11-2019 10:00:00</td>\n",
       "      <td>71.7425</td>\n",
       "      <td>71.7800</td>\n",
       "      <td>71.7425</td>\n",
       "      <td>71.7775</td>\n",
       "      <td>45863</td>\n",
       "    </tr>\n",
       "    <tr>\n",
       "      <th>5</th>\n",
       "      <td>13-11-2019 10:15:00</td>\n",
       "      <td>71.7750</td>\n",
       "      <td>71.8225</td>\n",
       "      <td>71.7700</td>\n",
       "      <td>71.8150</td>\n",
       "      <td>42460</td>\n",
       "    </tr>\n",
       "    <tr>\n",
       "      <th>6</th>\n",
       "      <td>13-11-2019 10:30:00</td>\n",
       "      <td>71.8150</td>\n",
       "      <td>71.8300</td>\n",
       "      <td>71.7775</td>\n",
       "      <td>71.7800</td>\n",
       "      <td>62403</td>\n",
       "    </tr>\n",
       "    <tr>\n",
       "      <th>7</th>\n",
       "      <td>13-11-2019 10:45:00</td>\n",
       "      <td>71.7750</td>\n",
       "      <td>71.7875</td>\n",
       "      <td>71.7475</td>\n",
       "      <td>71.7525</td>\n",
       "      <td>34090</td>\n",
       "    </tr>\n",
       "    <tr>\n",
       "      <th>8</th>\n",
       "      <td>13-11-2019 11:00:00</td>\n",
       "      <td>71.7525</td>\n",
       "      <td>71.7825</td>\n",
       "      <td>71.7475</td>\n",
       "      <td>71.7625</td>\n",
       "      <td>39320</td>\n",
       "    </tr>\n",
       "    <tr>\n",
       "      <th>9</th>\n",
       "      <td>13-11-2019 11:15:00</td>\n",
       "      <td>71.7625</td>\n",
       "      <td>71.7925</td>\n",
       "      <td>71.7600</td>\n",
       "      <td>71.7875</td>\n",
       "      <td>20190</td>\n",
       "    </tr>\n",
       "  </tbody>\n",
       "</table>\n",
       "</div>"
      ],
      "text/plain": [
       "             timestamp     open     high      low    close  volume\n",
       "0  13-11-2019 09:00:00  71.8075  71.8450  71.7775  71.7925  219512\n",
       "1  13-11-2019 09:15:00  71.7925  71.8000  71.7800  71.7925   59252\n",
       "2  13-11-2019 09:30:00  71.7925  71.8125  71.7600  71.7625   57187\n",
       "3  13-11-2019 09:45:00  71.7600  71.7650  71.7350  71.7425   43048\n",
       "4  13-11-2019 10:00:00  71.7425  71.7800  71.7425  71.7775   45863\n",
       "5  13-11-2019 10:15:00  71.7750  71.8225  71.7700  71.8150   42460\n",
       "6  13-11-2019 10:30:00  71.8150  71.8300  71.7775  71.7800   62403\n",
       "7  13-11-2019 10:45:00  71.7750  71.7875  71.7475  71.7525   34090\n",
       "8  13-11-2019 11:00:00  71.7525  71.7825  71.7475  71.7625   39320\n",
       "9  13-11-2019 11:15:00  71.7625  71.7925  71.7600  71.7875   20190"
      ]
     },
     "execution_count": 63,
     "metadata": {},
     "output_type": "execute_result"
    }
   ],
   "source": [
    "# Read pickle file into DataFrame object\n",
    "pandas.read_pickle('df.pickle')"
   ]
  }
 ],
 "metadata": {
  "kernelspec": {
   "display_name": "Python 3",
   "language": "python",
   "name": "python3"
  },
  "language_info": {
   "codemirror_mode": {
    "name": "ipython",
    "version": 3
   },
   "file_extension": ".py",
   "mimetype": "text/x-python",
   "name": "python",
   "nbconvert_exporter": "python",
   "pygments_lexer": "ipython3",
   "version": "3.7.3"
  }
 },
 "nbformat": 4,
 "nbformat_minor": 2
}
